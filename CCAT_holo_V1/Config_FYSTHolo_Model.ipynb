{
 "cells": [
  {
   "cell_type": "code",
   "execution_count": 1,
   "metadata": {},
   "outputs": [],
   "source": [
    "from ccat_holo.Pyccat import CCAT_holo\n",
    "import time\n",
    "import torch as T"
   ]
  },
  {
   "cell_type": "code",
   "execution_count": 2,
   "metadata": {},
   "outputs": [
    {
     "name": "stdout",
     "output_type": "stream",
     "text": [
      "FYST telescope model has been created!!\n",
      "[-1.2490457723982542, 0, 0] [0, -4799.999999999999, 0]\n"
     ]
    },
    {
     "data": {
      "application/vnd.jupyter.widget-view+json": {
       "model_id": "c8590fee26894f799018691d68308866",
       "version_major": 2,
       "version_minor": 0
      },
      "text/plain": [
       "Widget(value=\"<iframe src='http://localhost:49793/index.html?ui=P_0x2006fa87e80_0&reconnect=auto' style='width…"
      ]
     },
     "metadata": {},
     "output_type": "display_data"
    }
   ],
   "source": [
    "# 1. Model folder\n",
    "Model_folder='CCAT_model'\n",
    "# 2. Configuration of the Holography system\n",
    "holo_setup={'Rx1':([0,0,600],'scan/on-axis.txt'), \n",
    "            'Rx2':([400,400,600],'scan/400_400_600.txt'),\n",
    "            'Rx3':([400,-400,600],'scan/400_-400_600.txt'),\n",
    "            'Rx4':([-400,400,600],'scan/-400_400_600.txt'),\n",
    "            'Rx5':([-400,-400,600],'scan/-400_-400_600.txt')\n",
    "            }\n",
    "# Define 5 receiver positions in the 'Coord_Rx' system, e.g [+/-400,+/-400,600]\n",
    "# and their field points that are stored in file 'scan/400_400_600.txt'. The field\n",
    "# points of the measured beam maps are from the read out of the telescope coders.\n",
    "#####################\n",
    "# 3. Output_folder is the folder used to store the intermediate data of the first\n",
    "#    beam calculation and the analysing results.\n",
    "Output_folder='Analysis1'\n",
    "\n",
    "# 4. Create the FYST holography Model and check the telescope model and \n",
    "# holographic setup in the 3D view.\n",
    "Model=CCAT_holo(Model_folder,Output_folder,holo_conf=holo_setup)\n",
    "Model.view()\n",
    "\n",
    "Model.view_Rx(Rx=['Rx1'])"
   ]
  },
  {
   "cell_type": "code",
   "execution_count": null,
   "metadata": {},
   "outputs": [],
   "source": [
    "# 5. Running the time-consuming first beam calculation.\n",
    "Model.First_Beam_cal()\n",
    "''' We only need to run this calculation in the beginning\n",
    " of the data analysis. All the setup defined in 'holo_config'\n",
    " will be computed. The intermediate computed data will be\n",
    " stored in the directory 'output_folder', here is 'Analysis1'.\n",
    "'''\n"
   ]
  },
  {
   "cell_type": "code",
   "execution_count": 4,
   "metadata": {},
   "outputs": [],
   "source": [
    "# 6. Make the farward beam calculation function, (Model.FF), with using\n",
    "# the data produced by the First beam calculations. Here, we can use the movements\n",
    "# of the panel adjusters or coefficients of Zernike polynomial as the fitting paramters.\n",
    "# If fitting_param is 'zernike', the surface deviations will be described by \n",
    "# the summation of zernike polynimals, and the maximum zernike order is 7th.\n",
    "Model.mk_FF(fitting_param='panel adjusters',\n",
    "                  Device=T.device('cpu'),\n",
    "                  Z_order=7)\n",
    "\n",
    "# The function also supports the GPU acceleration by setting the 'Device' to \n",
    "# 'T.device('cuda:0')'.\n",
    "\n",
    "# Model.FF(adjusters, Para_Amp, Para_phase)\n"
   ]
  },
  {
   "cell_type": "code",
   "execution_count": null,
   "metadata": {},
   "outputs": [],
   "source": [
    "# 7. Start"
   ]
  }
 ],
 "metadata": {
  "kernelspec": {
   "display_name": "CCATholo",
   "language": "python",
   "name": "python3"
  },
  "language_info": {
   "codemirror_mode": {
    "name": "ipython",
    "version": 3
   },
   "file_extension": ".py",
   "mimetype": "text/x-python",
   "name": "python",
   "nbconvert_exporter": "python",
   "pygments_lexer": "ipython3",
   "version": "3.9.12"
  }
 },
 "nbformat": 4,
 "nbformat_minor": 2
}
