{
 "cells": [
  {
   "cell_type": "markdown",
   "metadata": {},
   "source": [
    "# ccat_holo\n",
    "\n",
    "'ccat_holo' is a python package which is designed to analyze the holographic measurement data for the Fred Young Sub-mm Telescope. The telescope uses a special 'Crossed-Dragone' optics design, which consists of two 6-m reflectors. Its two reflectors both have to be aligned to be better than 10um (goal of < 7um). \n",
    "\n",
    "The new **'Multi-map'** Holography method has been developed for measuring and discriminating the surface errors of the two reflectors of FYST by taking 5 different beam maps. The software was developed for the data analysis which can convert the 5 measured beam maps into 'Two' surface error maps.\n",
    "\n",
    "- [Installation](#Installation)\n",
    "- [FYST Geometry](#FYST-Geometry)\n",
    "- [Coordinate Systems](#Coordinate-Systems)\n",
    "- [Configuration of the FYST Holography System](#Configuration_of_the_FYST_Holography_System)\n",
    "\n",
    "## Installation\n",
    "**This package just works with python3.**\n",
    "\n",
    "Following packages are required:\n",
    "1. numpy v1.21\n",
    "2. scipy v1.7\n",
    "3. pytorch 1.12\n",
    "4. transforms3d v0.4.1\n",
    "5. h5py v3.6.0\n",
    "6. pyvista\n",
    "\n",
    "You can install these packages using the command:\n",
    "\n",
    "'pip install -r requirements'\n",
    "\n",
    "When you have all required packages, you can clone or download the 'ccat_holo' repository from github or uni-koeln gitlab. \n",
    "\n",
    "```shell\n",
    "git clone https://github.com/XiaodongRencologne/CCAT_holo_V1.git\n",
    "```\n",
    "or\n",
    "```shell\n",
    "git clone https://github.com/XiaodongRencologne/CCAT_holo_V1.git\n",
    "```"
   ]
  },
  {
   "cell_type": "markdown",
   "metadata": {},
   "source": [
    "## FYST Geometry\n",
    "Figure 1 shows the 3D model of the FYST telescope. The details of the FYST geometry and coordinate systems are given in the 'CCAT_model' folder. **For the FYST holographic analysis, you don't need to make any modifications.**. Here, we explain the \n",
    "\n",
    "![image info](pictures/FYST_model1.png)\n",
    "\n",
    "*Figure 1: FYST optical layout and 5 receiver locations.*\n",
    "\n",
    "'CCAT_model' folder defines the FYST telescope's geometry, coordinate systems and electrical parameters. **For the FYST holographic experiment, you don't need to make any modifications.** The files in the folder are explained below.\n",
    "\n",
    "**'coeffi_m1.txt/coeffi_m2.txt':**\n",
    "The two files record the coefficients of the 2D polynominals which are used to describe the surface profiles of the FYST's two mirrors (M1 and M2). x and y coordinates of the 2D polynomials are normalized by a factor of 3000mm (radius of the FYST's aperture). The two mirror surfaces are defined in their local coordinate systems. \n",
    "$$ z=\\sum_{i,j=0}{c_{ij}{\\left({x}\\over R\\right)}^{i}{\\left({y}\\over R\\right)}^{j}}$$\n",
    "\n",
    "**'L_m1.txt and L_m2.txt':**\n",
    "The files define the panel layout in M1 and M2. They record the list of panel center positions. \n",
    "\n",
    "**'Model.txt':**\n",
    "The size of the mirror panels (700x710mm on M2 and 670x750mm on M1) and positions of the 4 corner panel adjusters can be set in this file.  The required sampling points on the mirror panels are defined in the file. The sampling range and points in the intermediate focal (IF) plane are also given here. \n",
    "|                    |  Size        |  Sampling Points  |\n",
    "| ------------------ |--------------| ----------------- |\n",
    "| M2                 | 700x710mm    | 15x15             |\n",
    "| M1                 | 670x750mm    | 14x14             |\n",
    "| IF                 | 540x540mm    | 121x121           |\n",
    "\n",
    "\n",
    "\n",
    "The electrical parameters, operating frequency of the holographic system and Gaussian beam pattern of the used holographic Rx, are set in 'electrical_parameters.txt'.\n",
    "\n",
    "## Coordinate_systems\n",
    "\n",
    "FYST holography meausrement will measure 5 beam maps by puting the Rx at 5 different points. The coordinates of the 5 Rx mounting points and the cooresponding scan path must be expressed in the 'coord_Rx' and 'coord_Scan' coordinate systems shown in below figure.\n",
    "\n",
    "\n",
    "The field points defined by the real telescope rotation axes must be converted to the coordinates in the Scan coordinate system 'Coord_scan'.\n",
    "\n",
    "![image info](pictures/FYST_optics.png)\n",
    "\n",
    "## Electrical parameters setting\n",
    "\n",
    "For the FYST holographic experiment, you do not need to change any settings. Maybe only the electrical parameters given in the file of 'electrical_parameter.txt' need to be changed based on the practical experiments.\n",
    "\n",
    "'electrical_parameter.txt'\n",
    "\n",
    "freq/GHz, 296  # GHz\n",
    "\n",
    "Edge_taper, -8 # dB\n",
    "\n",
    "taper_angle, 11.893\n",
    "\n",
    "Here, you can set the operating frequency and the illumination edge taper and taper angle which is related to the Guassian beam pattern of the holographic receiver. \n",
    "\n",
    "\n",
    "\n",
    "\n"
   ]
  },
  {
   "cell_type": "markdown",
   "metadata": {},
   "source": [
    "## Initialization and Holography configuration\n",
    "\n",
    "'CCAT_holo' is the basic tool developed to \n",
    "\n",
    "\n",
    "\n",
    "\n",
    "**x**"
   ]
  },
  {
   "cell_type": "code",
   "execution_count": null,
   "metadata": {},
   "outputs": [],
   "source": [
    "from ccat_holo.Pyccat import CCAT_holo\n",
    "import time\n",
    "import torch as T"
   ]
  },
  {
   "cell_type": "code",
   "execution_count": null,
   "metadata": {},
   "outputs": [],
   "source": [
    "# 1. Model folder\n",
    "Model_folder='CCAT_model'\n",
    "# 2. Configuration of the Holography system\n",
    "holo_setup={'Rx1':([0,0,600],'scan/on-axis.txt'), \n",
    "            'Rx2':([400,400,600],'scan/400_400_600.txt'),\n",
    "            'Rx3':([400,-400,600],'scan/400_-400_600.txt'),\n",
    "            'Rx4':([-400,400,600],'scan/-400_400_600.txt'),\n",
    "            'Rx5':([-400,-400,600],'scan/-400_-400_600.txt')\n",
    "            }\n",
    "# Define 5 receiver positions in the 'Coord_Rx' system, e.g [+/-400,+/-400,600]\n",
    "# and their field points that are stored in file 'scan/400_400_600.txt'. The field\n",
    "# points of the measured beam maps are from the read out of the telescope coders.\n",
    "#####################\n",
    "# 3. Output_folder is the folder used to store the intermediate data of the first\n",
    "#    beam calculation and the analysing results.\n",
    "Output_folder='Analysis1'\n",
    "\n",
    "# 4. Create the FYST holography Model and check the telescope model and \n",
    "# holographic setup in the 3D view.\n",
    "Model=CCAT_holo(Model_folder,Output_folder,holo_conf=holo_setup)\n",
    "Model.view()\n",
    "\n",
    "#Model.view_Rx(Rx=['Rx1'])"
   ]
  },
  {
   "cell_type": "code",
   "execution_count": null,
   "metadata": {},
   "outputs": [],
   "source": [
    "# 5. Running the time-consuming first beam calculation.\n",
    "Model.First_Beam_cal()\n",
    "''' We only need to run this calculation in the beginning\n",
    " of the data analysis. All the setup defined in 'holo_config'\n",
    " will be computed. The intermediate computed data will be\n",
    " stored in the directory 'output_folder', here is 'Analysis1'.\n",
    "'''\n"
   ]
  },
  {
   "cell_type": "code",
   "execution_count": null,
   "metadata": {},
   "outputs": [],
   "source": [
    "# 6. Make the farward beam calculation function, (Model.FF), with using\n",
    "# the data produced by the First beam calculations. Here, we can use the movements\n",
    "# of the panel adjusters or coefficients of Zernike polynomial as the fitting paramters.\n",
    "# If fitting_param is 'zernike', the surface deviations will be described by \n",
    "# the summation of zernike polynimals, and the maximum zernike order is 7th.\n",
    "Model.mk_FF(fitting_param='panel adjusters',\n",
    "                  Device=T.device('cpu'),\n",
    "                  Z_order=7)\n",
    "\n",
    "# The function also supports the GPU acceleration by setting the 'Device' to \n",
    "# 'T.device('cuda:0')'.\n",
    "\n",
    "# Model.FF(adjusters, Para_Amp, Para_phase)\n"
   ]
  },
  {
   "cell_type": "code",
   "execution_count": null,
   "metadata": {},
   "outputs": [],
   "source": [
    "# 7. Start"
   ]
  }
 ],
 "metadata": {
  "kernelspec": {
   "display_name": "CCATholo",
   "language": "python",
   "name": "python3"
  },
  "language_info": {
   "codemirror_mode": {
    "name": "ipython",
    "version": 3
   },
   "file_extension": ".py",
   "mimetype": "text/x-python",
   "name": "python",
   "nbconvert_exporter": "python",
   "pygments_lexer": "ipython3",
   "version": "3.9.18"
  }
 },
 "nbformat": 4,
 "nbformat_minor": 2
}
