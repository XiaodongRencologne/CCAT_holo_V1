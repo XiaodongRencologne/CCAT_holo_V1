{
 "cells": [
  {
   "cell_type": "markdown",
   "metadata": {},
   "source": [
    "# ccat_holo\n",
    "\n",
    "'ccat_holo' is a python package which is designed to analyze the holographic measurement data for the Fred Young Sub-mm Telescope. The telescope uses a special 'Crossed-Dragone' optics design, which consists of two 6-m reflectors. Its two reflectors both have to be aligned to be better than 10um (goal of < 7um). \n",
    "\n",
    "The new **'Multi-map'** Holography method has been developed for measuring and discriminating the surface errors of the two reflectors of FYST by taking 5 different beam maps. The software was developed for the data analysis which can convert the 5 measured beam maps into 'Two' surface error maps.\n",
    "\n",
    "1. [Installation](#Installation)\n",
    "2. [FYST Geometry](#FYST-Geometry)\n",
    "3. [Coordinate Systems](#Coordinate-Systems)\n",
    "4. [Configurate the FYST Holography](#Configurate-the-FYST-Holographic-System)\n",
    "\n",
    "## Installation\n",
    "**This package just works with python3.**\n",
    "\n",
    "Following packages are required:\n",
    "1. numpy v1.21\n",
    "2. scipy v1.7\n",
    "3. pytorch 1.12\n",
    "4. transforms3d v0.4.1\n",
    "5. h5py v3.6.0\n",
    "6. pyvista\n",
    "\n",
    "You can install these packages using the command:  \n",
    "```shell\n",
    "'pip install -r requirements' \n",
    "``` \n",
    "When you have all required packages, you can clone or download the 'ccat_holo' repository from github or uni-koeln gitlab.  \n",
    "```shell\n",
    "git clone https://github.com/XiaodongRencologne/CCAT_holo_V1.git\n",
    "```\n",
    "or\n",
    "```shell\n",
    "git clone https://github.com/XiaodongRencologne/CCAT_holo_V1.git\n",
    "```\n",
    "\n",
    "## FYST Geometry\n",
    "The details of the FYST geometry (Figure 1) is defined by files in the 'CCAT_model' folder. **For the FYST holographic analysis, you don't need to modifiy anything.**\n",
    "\n",
    "![image info](pictures/FYST_model1.png)  \n",
    "*Figure 1: FYST optical layout and 5 receiver locations.*\n",
    "\n",
    "Here, we explain the parameters in the files.  \n",
    "**Mirror surface profile: 'coeffi_m1.txt/coeffi_m2.txt'**\n",
    "The files record the coefficients of the 2D polynominals which are used to describe the surface profiles of the FYST's two mirrors (M1 and M2). x and y coordinates of the 2D polynomials are normalized by a factor of 3000mm (radius of the FYST's aperture). The two mirror surfaces are defined in their local coordinate systems.   \n",
    "$$z=\\sum_{i,j=0}{c_{ij}{\\left({x}\\over R\\right)}^{i}{\\left({y}\\over R\\right)}^{j}}$$\n",
    "\n",
    "**Panel positions: 'L_m1.txt and L_m2.txt':**\n",
    "The files define the panel layout in M1 and M2. They record the list of panel center positions. \n",
    "\n",
    "**Sampling number: 'Model.txt':**\n",
    "The size of the mirror panels (700x710mm on M2 and 670x750mm on M1) and positions of the 4 corner panel adjusters can be set in this file.  The required sampling points on the mirror panels are defined in the file. The sampling range and points in the intermediate focal (IF) plane are also given here. \n",
    "|                    |  Size        |  Sampling Points  |\n",
    "| ------------------ |--------------| ----------------- |\n",
    "| M2                 | 700x710mm    | 15x15             |\n",
    "| M1                 | 670x750mm    | 14x14             |\n",
    "| IF                 | 540x540mm    | 121x121           |\n",
    "\n",
    "## Coordinate Systems\n",
    "\n",
    "\n",
    "FYST holography meausrement will measure 5 beam maps by puting the Rx at 5 different points. The receiver mounting points and the cooresponding antenna scanning trajectory must be expressed in the **'coord_Rx'** & **'coord_Scan'** coordinate systems indicated in below Figure 2.\n",
    "\n",
    "In the practical holographic measurement, The coordinates of the recorded field points need to be converted into the points expressed in the 'coord_scan' frame.\n",
    "\n",
    "**'Coord_M1' and 'Coord_M2'** are the frames for defining the mirror layout.\n",
    "\n",
    "![image info](pictures/FYST_optics.png)\n",
    "\n",
    "*Figure 2. Optical layout of FYST and its coordinate systems.*\n"
   ]
  },
  {
   "cell_type": "markdown",
   "metadata": {},
   "source": [
    "## Configurate the FYST Holography\n",
    "\n",
    "\n",
    "1 . Set electrical parameters: operating frequency and the holo-Rx beam.\n",
    "\n",
    "\n",
    "The measuring frequency of the holo-system and Guassian beam of the used holo-Rx are given in file 'electrical_parameter.txt'.\n",
    "|  Parameters        |  Sampling Points  |\n",
    "|--------------------| ----------------- |\n",
    "| freq/GHz           | 296               |\n",
    "| Edge_taper/dB      | -8                |\n",
    "| taper_angle/deg    | 11.894            |\n",
    "\n",
    "The Gaussian beam of the receiver is set by the illumination edge taper at a specific taper angle. \n",
    "\n",
    "2 . Define the FYST holography Model and initialize the model\n",
    "\n",
    "All required methods for the FYST holography data analysis are integrated in the class <em>**'CCAT_holo'**<em> in the package <em>**ccat_holo.Pyccat**<em>. Before starting the data analysis, we should first define the FYST holography model correctly. In the following example, I will demonstrate the code about the holo-mode defination. You also can check the code in jupyter notebook [Initialization_FYST_holo](examples/1_initialization.ipynb)."
   ]
  },
  {
   "cell_type": "code",
   "execution_count": null,
   "metadata": {},
   "outputs": [],
   "source": [
    "# 0. Import the CCAT_holo model\n",
    "from ccat_holo.Pyccat import CCAT_holo"
   ]
  },
  {
   "cell_type": "markdown",
   "metadata": {},
   "source": [
    "<em>**CCAT_holo**<em> requires 3 input parameters. First is the folder 'CCAT_model' defining the [FYST geometry model](#fyst-geometry).  \n",
    "<em>**Output_folder**<em> is the chosen folder to store the matrixes of the initial beam calculation.  \n",
    "Then we should define 5 receiver mounting points and their measured field points. These are set by a python dictionary seen below."
   ]
  },
  {
   "cell_type": "code",
   "execution_count": null,
   "metadata": {},
   "outputs": [],
   "source": [
    "# 1. Model folder\n",
    "Model_folder='CCAT_model'\n",
    "# 2. Configuration of the Holography system\n",
    "holo_setup={'Rx1':([0,0,600],'scan/on-axis.txt'), \n",
    "            'Rx2':([400,400,600],'scan/400_400_600.txt'),\n",
    "            'Rx3':([400,-400,600],'scan/400_-400_600.txt'),\n",
    "            'Rx4':([-400,400,600],'scan/-400_400_600.txt'),\n",
    "            'Rx5':([-400,-400,600],'scan/-400_-400_600.txt')\n",
    "            }\n",
    "# Define 5 receiver positions in the 'Coord_Rx' system, e.g [+/-400,+/-400,600]\n",
    "# and their field points that are stored in file 'scan/400_400_600.txt'. The field\n",
    "# points of the measured beam maps are from the read out of the telescope coders.\n",
    "#####################\n",
    "# 3. Output_folder is the folder used to store the intermediate data of the first\n",
    "#    beam calculation and the analysing results.\n",
    "Output_folder='Analysis1'\n",
    "\n",
    "# 4. Create the FYST holography Model and check the telescope model and \n",
    "# holographic setup in the 3D view.\n",
    "Model=CCAT_holo(Model_folder,Output_folder,holo_conf=holo_setup)"
   ]
  },
  {
   "cell_type": "markdown",
   "metadata": {},
   "source": [
    "Using the method <em>'Model.view'<em> can show the 3D model of the defined antenna and the pre-defined 5 Receiver points. "
   ]
  },
  {
   "cell_type": "code",
   "execution_count": null,
   "metadata": {},
   "outputs": [],
   "source": [
    "Model.view()"
   ]
  },
  {
   "cell_type": "markdown",
   "metadata": {},
   "source": [
    "![image info](pictures/FYST_3D.png)"
   ]
  },
  {
   "cell_type": "code",
   "execution_count": null,
   "metadata": {},
   "outputs": [],
   "source": [
    "# 5. Running the time-consuming first beam calculation.\n",
    "Model.First_Beam_cal()\n",
    "''' We only need to run this calculation in the beginning\n",
    " of the data analysis. All the setup defined in 'holo_config'\n",
    " will be computed. The intermediate computed data will be\n",
    " stored in the directory 'output_folder', here is 'Analysis1'.\n",
    "'''\n"
   ]
  },
  {
   "cell_type": "code",
   "execution_count": null,
   "metadata": {},
   "outputs": [],
   "source": [
    "# 6. Make the farward beam calculation function, (Model.FF), with using\n",
    "# the data produced by the First beam calculations. Here, we can use the movements\n",
    "# of the panel adjusters or coefficients of Zernike polynomial as the fitting paramters.\n",
    "# If fitting_param is 'zernike', the surface deviations will be described by \n",
    "# the summation of zernike polynimals, and the maximum zernike order is 7th.\n",
    "Model.mk_FF(fitting_param='panel adjusters',\n",
    "                  Device=T.device('cpu'),\n",
    "                  Z_order=7)\n",
    "\n",
    "# The function also supports the GPU acceleration by setting the 'Device' to \n",
    "# 'T.device('cuda:0')'.\n",
    "\n",
    "# Model.FF(adjusters, Para_Amp, Para_phase)\n"
   ]
  },
  {
   "cell_type": "code",
   "execution_count": null,
   "metadata": {},
   "outputs": [],
   "source": [
    "# 7. Start"
   ]
  }
 ],
 "metadata": {
  "kernelspec": {
   "display_name": "CCATholo",
   "language": "python",
   "name": "python3"
  },
  "language_info": {
   "codemirror_mode": {
    "name": "ipython",
    "version": 3
   },
   "file_extension": ".py",
   "mimetype": "text/x-python",
   "name": "python",
   "nbconvert_exporter": "python",
   "pygments_lexer": "ipython3",
   "version": "3.9.18"
  }
 },
 "nbformat": 4,
 "nbformat_minor": 2
}
