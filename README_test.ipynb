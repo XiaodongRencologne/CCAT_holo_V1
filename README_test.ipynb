{
 "cells": [
  {
   "cell_type": "markdown",
   "metadata": {},
   "source": [
    "# ccat_holo\n",
    "\n",
    "'ccat_holo' is a python package which is designed to analyze the holographic measurement data for the Fred Young Sub-mm Telescope. The telescope uses a special 'Crossed-Dragone' optics design, which consists of two 6-m reflectors. Its two reflectors both have to be aligned to be better than 10um (goal of < 7um). \n",
    "\n",
    "The new **'Multi-map'** Holography method has been developed for measuring and discriminating the surface errors of the two reflectors of FYST by taking 5 different beam maps. The software was developed for the data analysis which can convert the 5 measured beam maps into 'Two' surface error maps.\n",
    "\n",
    "- [Installation](#Installation)\n",
    "- [FYST Geometry](#FYST_Geometry)\n",
    "- [Coordinate systems](#Coordinate_systems)\n",
    "- [Configuration of the FYST Holography System](#Configuration_of_the_FYST_Holography_System)\n",
    "\n",
    "## Installation\n",
    "**This package just works with python3.**\n",
    "\n",
    "Following packages are required:\n",
    "1. numpy v1.21\n",
    "2. scipy v1.7\n",
    "3. pytorch 1.12\n",
    "4. transforms3d v0.4.1\n",
    "5. h5py v3.6.0\n",
    "6. pyvista\n",
    "\n",
    "You can install these packages using the command:\n",
    "\n",
    "'pip install -r requirements'\n",
    "\n",
    "When you have all required packages, you can clone or download the 'ccat_holo' repository from github or uni-koeln gitlab. \n",
    "\n",
    "```shell\n",
    "git clone https://github.com/XiaodongRencologne/CCAT_holo_V1.git\n",
    "'''\n",
    "or\n",
    "'''shell\n",
    "git clone https://github.com/XiaodongRencologne/CCAT_holo_V1.git\n",
    "```\n",
    "\n",
    "## FYST_Geometry\n",
    "The files in the folder 'CCAT_folder' is used to set the FYST telescope's geometry, operating frequency and the beam pattern of the holo-Rx. \n",
    "\n",
    "** Electrical Setting **\n",
    "\n",
    "For the FYST holographic experiment, you do not need to change any settings. Maybe only the electrical parameters given in the file of 'electrical_parameter.txt' need to be changed based on the practical experiments.\n",
    "\n",
    "'electrical_parameter.txt'\n",
    "freq/GHz, 296  # GHz\n",
    "\n",
    "Edge_taper, -8 # dB\n",
    "\n",
    "taper_angle, 11.893\n",
    "\n",
    "Here, you can set the operating frequency and the illumination edge taper and taper angle which is related to the Guassian beam pattern of the holographic receiver. \n",
    "\n",
    "** Panel Size, adjuster positions, and Sampling Number **\n",
    "\n",
    "These are defined in the 'input.txt' file.\n",
    "\n",
    "## Coordinate_systems\n",
    "\n",
    "FYST holography meausrement will measure 5 beam maps by puting the Rx at 5 different points. The coordinates of the 5 Rx mounting points and the cooresponding scan path must be expressed in the 'coord_Rx' and 'coord_Scan' coordinate systems shown in below figure.\n",
    "\n",
    "\n",
    "The field points defined by the real telescope rotation axes must be converted to the coordinates in the Scan coordinate system 'Coord_scan'.\n",
    "\n",
    "![image info](README_test_files/FYST_optics.png)\n",
    "![FYST_optics.png](attachment:/FYST_optics.png)\n",
    "\n",
    "## Initialization and Holography configuration\n",
    "\n",
    "'CCAT_holo' is the basic tool developed to \n",
    "\n",
    "\n",
    "\n",
    "\n",
    "\n"
   ]
  },
  {
   "cell_type": "code",
   "execution_count": null,
   "metadata": {},
   "outputs": [],
   "source": [
    "## C"
   ]
  },
  {
   "cell_type": "code",
   "execution_count": null,
   "metadata": {},
   "outputs": [],
   "source": [
    "from ccat_holo.Pyccat import CCAT_holo\n",
    "import time\n",
    "import torch as T"
   ]
  },
  {
   "cell_type": "code",
   "execution_count": null,
   "metadata": {},
   "outputs": [],
   "source": [
    "# 1. Model folder\n",
    "Model_folder='CCAT_model'\n",
    "# 2. Configuration of the Holography system\n",
    "holo_setup={'Rx1':([0,0,600],'scan/on-axis.txt'), \n",
    "            'Rx2':([400,400,600],'scan/400_400_600.txt'),\n",
    "            'Rx3':([400,-400,600],'scan/400_-400_600.txt'),\n",
    "            'Rx4':([-400,400,600],'scan/-400_400_600.txt'),\n",
    "            'Rx5':([-400,-400,600],'scan/-400_-400_600.txt')\n",
    "            }\n",
    "# Define 5 receiver positions in the 'Coord_Rx' system, e.g [+/-400,+/-400,600]\n",
    "# and their field points that are stored in file 'scan/400_400_600.txt'. The field\n",
    "# points of the measured beam maps are from the read out of the telescope coders.\n",
    "#####################\n",
    "# 3. Output_folder is the folder used to store the intermediate data of the first\n",
    "#    beam calculation and the analysing results.\n",
    "Output_folder='Analysis1'\n",
    "\n",
    "# 4. Create the FYST holography Model and check the telescope model and \n",
    "# holographic setup in the 3D view.\n",
    "Model=CCAT_holo(Model_folder,Output_folder,holo_conf=holo_setup)\n",
    "Model.view()\n",
    "\n",
    "#Model.view_Rx(Rx=['Rx1'])"
   ]
  },
  {
   "cell_type": "code",
   "execution_count": null,
   "metadata": {},
   "outputs": [],
   "source": [
    "# 5. Running the time-consuming first beam calculation.\n",
    "Model.First_Beam_cal()\n",
    "''' We only need to run this calculation in the beginning\n",
    " of the data analysis. All the setup defined in 'holo_config'\n",
    " will be computed. The intermediate computed data will be\n",
    " stored in the directory 'output_folder', here is 'Analysis1'.\n",
    "'''\n"
   ]
  },
  {
   "cell_type": "code",
   "execution_count": null,
   "metadata": {},
   "outputs": [],
   "source": [
    "# 6. Make the farward beam calculation function, (Model.FF), with using\n",
    "# the data produced by the First beam calculations. Here, we can use the movements\n",
    "# of the panel adjusters or coefficients of Zernike polynomial as the fitting paramters.\n",
    "# If fitting_param is 'zernike', the surface deviations will be described by \n",
    "# the summation of zernike polynimals, and the maximum zernike order is 7th.\n",
    "Model.mk_FF(fitting_param='panel adjusters',\n",
    "                  Device=T.device('cpu'),\n",
    "                  Z_order=7)\n",
    "\n",
    "# The function also supports the GPU acceleration by setting the 'Device' to \n",
    "# 'T.device('cuda:0')'.\n",
    "\n",
    "# Model.FF(adjusters, Para_Amp, Para_phase)\n"
   ]
  },
  {
   "cell_type": "code",
   "execution_count": null,
   "metadata": {},
   "outputs": [],
   "source": [
    "# 7. Start"
   ]
  }
 ],
 "metadata": {
  "kernelspec": {
   "display_name": "CCATholo",
   "language": "python",
   "name": "python3"
  },
  "language_info": {
   "codemirror_mode": {
    "name": "ipython",
    "version": 3
   },
   "file_extension": ".py",
   "mimetype": "text/x-python",
   "name": "python",
   "nbconvert_exporter": "python",
   "pygments_lexer": "ipython3",
   "version": "3.9.18"
  }
 },
 "nbformat": 4,
 "nbformat_minor": 2
}
