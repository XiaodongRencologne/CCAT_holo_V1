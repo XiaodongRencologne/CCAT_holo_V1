{
 "cells": [
  {
   "cell_type": "code",
   "execution_count": 1,
   "metadata": {},
   "outputs": [],
   "source": [
    "import sys,os\n",
    "sys.path.append('..')\n",
    "from ccat_holo.Pyccat import CCAT_holo\n",
    "import time\n",
    "import torch as T"
   ]
  },
  {
   "cell_type": "code",
   "execution_count": 2,
   "metadata": {},
   "outputs": [
    {
     "name": "stdout",
     "output_type": "stream",
     "text": [
      "FYST telescope model has been created!!\n"
     ]
    }
   ],
   "source": [
    "dz_Rx=715\n",
    "# 1. Model folder\n",
    "Model_folder='../CCAT_model'\n",
    "# 2. Configuration of the Holography system\n",
    "holo_setup={'Rx1':([0,0,600],'../scan/51/on-axis.txt'), \n",
    "            'Rx2':([400,400,600],'../scan/51/400_400_600.txt'),\n",
    "            'Rx3':([400,-400,600],'../scan/51/400_-400_600.txt'),\n",
    "            'Rx4':([-400,400,600],'../scan/51/-400_400_600.txt'),\n",
    "            'Rx5':([-400,-400,600],'../scan/51/-400_-400_600.txt')\n",
    "            }\n",
    "\n",
    "holo_setup={#'Rx1':([0,0,dz_Rx],'../scan/501/on-axis.txt'), \n",
    "            #'Rx2':([400,400,dz_Rx],'../scan/501/pos_pos_near.txt'),\n",
    "            #'Rx3':([400,-400,dz_Rx],'../scan/501/pos_neg_near.txt'),\n",
    "            #'Rx4':([-400,400,dz_Rx],'../scan/501/neg_pos_near.txt'),\n",
    "            'Rx5':([-400,-400,dz_Rx],'../scan/501/neg_neg_near.txt')\n",
    "            }\n",
    "# Define 5 receiver positions in the 'Coord_Rx' system, e.g [+/-400,+/-400,600]\n",
    "# and their field points that are stored in file 'scan/400_400_600.txt'. The field\n",
    "# points of the measured beam maps are from the read out of the telescope coders.\n",
    "#####################\n",
    "# 3. Output_folder is the folder used to store the intermediate data of the first\n",
    "#    beam calculation and the analysing results.\n",
    "#Output_folder='Analysis_beam'\n",
    "Output_folder='test'\n",
    "# 4. Create the FYST holography Model and check the telescope model and \n",
    "# holographic setup in the 3D view.\n",
    "Model=CCAT_holo(Model_folder,Output_folder,holo_conf=holo_setup)"
   ]
  },
  {
   "cell_type": "code",
   "execution_count": 3,
   "metadata": {},
   "outputs": [
    {
     "name": "stdout",
     "output_type": "stream",
     "text": [
      "[-1.2490457723982542, 0, 0] [0, -4799.999999999999, 0]\n"
     ]
    },
    {
     "data": {
      "application/vnd.jupyter.widget-view+json": {
       "model_id": "b752c899222640a2a8ae6baee20b25a6",
       "version_major": 2,
       "version_minor": 0
      },
      "text/plain": [
       "Widget(value=\"<iframe src='http://localhost:60066/index.html?ui=P_0x1ac6f00e9d0_0&reconnect=auto' style='width…"
      ]
     },
     "metadata": {},
     "output_type": "display_data"
    }
   ],
   "source": [
    "Model.view() # Show 3D FYST model and its receivers.\n",
    "Model.view_Rx(Rx=['Rx1']) # This method can highlight the chosen reciever horns."
   ]
  },
  {
   "cell_type": "code",
   "execution_count": null,
   "metadata": {},
   "outputs": [],
   "source": [
    "# 5. Running the time-consuming first beam calculation.\n",
    "''' We only need to run this calculation in the beginning\n",
    " of the data analysis. All the setup defined in 'holo_config'\n",
    " will be computed. The intermediate computed data will be\n",
    " stored in the directory 'output_folder', here is 'Analysis1'.\n",
    "'''\n",
    "Model.First_Beam_cal(Matrix=False)\n"
   ]
  },
  {
   "cell_type": "code",
   "execution_count": null,
   "metadata": {},
   "outputs": [],
   "source": [
    "# 6. Make the farward beam calculation function, (Model.FF), with using\n",
    "# the data produced by the First beam calculations. Here, we can use the movements\n",
    "# of the panel adjusters or coefficients of Zernike polynomial as the fitting paramters.\n",
    "# If fitting_param is 'zernike', the surface deviations will be described by \n",
    "# the summation of zernike polynimals, and the maximum zernike order is 7th.\n",
    "Model.mk_FF(fitting_param='panel adjusters',Device=T.device('cpu'))\n",
    "#Model.mk_FF(fitting_param='panel adjusters',Device=T.device('cuda:0'))\n",
    "\n",
    "# The function also supports the GPU acceleration by setting the 'Device' to \n",
    "# 'T.device('cuda:0')'.\n",
    "\n",
    "# Model.FF(adjusters, Para_Amp, Para_phase)"
   ]
  },
  {
   "cell_type": "code",
   "execution_count": null,
   "metadata": {},
   "outputs": [],
   "source": [
    "import h5py\n",
    "filename='Analysis2/data_Rx_dx-400_dy-400_dz600.h5py'\n",
    "with h5py.File(filename,'r') as f:\n",
    "    print(f['F_beam_real'][:])\n",
    "    print(f['F_beam_imag'][:])"
   ]
  },
  {
   "cell_type": "code",
   "execution_count": 4,
   "metadata": {},
   "outputs": [
    {
     "ename": "FileNotFoundError",
     "evalue": "[Errno 2] Unable to open file (unable to open file: name = 'test/data_Rx_dx0_dy0_dz715.h5py', errno = 2, error message = 'No such file or directory', flags = 0, o_flags = 0)",
     "output_type": "error",
     "traceback": [
      "\u001b[1;31m---------------------------------------------------------------------------\u001b[0m",
      "\u001b[1;31mFileNotFoundError\u001b[0m                         Traceback (most recent call last)",
      "Input \u001b[1;32mIn [4]\u001b[0m, in \u001b[0;36m<cell line: 3>\u001b[1;34m()\u001b[0m\n\u001b[0;32m      1\u001b[0m \u001b[38;5;66;03m# 5.1 check the beams\u001b[39;00m\n\u001b[0;32m      2\u001b[0m \u001b[38;5;66;03m#dz_Rx=705\u001b[39;00m\n\u001b[1;32m----> 3\u001b[0m \u001b[43mModel\u001b[49m\u001b[38;5;241;43m.\u001b[39;49m\u001b[43mplot_beam\u001b[49m\u001b[43m(\u001b[49m\u001b[43mOutput_folder\u001b[49m\u001b[38;5;241;43m+\u001b[39;49m\u001b[38;5;124;43m'\u001b[39;49m\u001b[38;5;124;43m/data_Rx_dx0_dy0_dz\u001b[39;49m\u001b[38;5;124;43m'\u001b[39;49m\u001b[38;5;241;43m+\u001b[39;49m\u001b[38;5;28;43mstr\u001b[39;49m\u001b[43m(\u001b[49m\u001b[43mdz_Rx\u001b[49m\u001b[43m)\u001b[49m\u001b[38;5;241;43m+\u001b[39;49m\u001b[38;5;124;43m'\u001b[39;49m\u001b[38;5;124;43m.h5py\u001b[39;49m\u001b[38;5;124;43m'\u001b[39;49m\u001b[43m)\u001b[49m\n\u001b[0;32m      4\u001b[0m Model\u001b[38;5;241m.\u001b[39mplot_beam(Output_folder\u001b[38;5;241m+\u001b[39m\u001b[38;5;124m'\u001b[39m\u001b[38;5;124m/data_Rx_dx400_dy400_dz\u001b[39m\u001b[38;5;124m'\u001b[39m\u001b[38;5;241m+\u001b[39m\u001b[38;5;28mstr\u001b[39m(dz_Rx)\u001b[38;5;241m+\u001b[39m\u001b[38;5;124m'\u001b[39m\u001b[38;5;124m.h5py\u001b[39m\u001b[38;5;124m'\u001b[39m)\n\u001b[0;32m      5\u001b[0m Model\u001b[38;5;241m.\u001b[39mplot_beam(Output_folder\u001b[38;5;241m+\u001b[39m\u001b[38;5;124m'\u001b[39m\u001b[38;5;124m/data_Rx_dx400_dy-400_dz\u001b[39m\u001b[38;5;124m'\u001b[39m\u001b[38;5;241m+\u001b[39m\u001b[38;5;28mstr\u001b[39m(dz_Rx)\u001b[38;5;241m+\u001b[39m\u001b[38;5;124m'\u001b[39m\u001b[38;5;124m.h5py\u001b[39m\u001b[38;5;124m'\u001b[39m)\n",
      "File \u001b[1;32me:\\E_Laptop_new\\Project in Köln\\1_Holography inference\\program_oldVersion\\examples\\..\\ccat_holo\\Pyccat.py:439\u001b[0m, in \u001b[0;36mCCAT_holo.plot_beam\u001b[1;34m(self, filename)\u001b[0m\n\u001b[0;32m    437\u001b[0m     \u001b[38;5;28;01mpass\u001b[39;00m\n\u001b[0;32m    438\u001b[0m \u001b[38;5;28;01melse\u001b[39;00m:\n\u001b[1;32m--> 439\u001b[0m     \u001b[38;5;28;01mwith\u001b[39;00m \u001b[43mh5py\u001b[49m\u001b[38;5;241;43m.\u001b[39;49m\u001b[43mFile\u001b[49m\u001b[43m(\u001b[49m\u001b[43mfilename\u001b[49m\u001b[43m,\u001b[49m\u001b[38;5;124;43m'\u001b[39;49m\u001b[38;5;124;43mr\u001b[39;49m\u001b[38;5;124;43m'\u001b[39;49m\u001b[43m)\u001b[49m \u001b[38;5;28;01mas\u001b[39;00m f:\n\u001b[0;32m    440\u001b[0m         beam\u001b[38;5;241m=\u001b[39mf[\u001b[38;5;124m'\u001b[39m\u001b[38;5;124mF_beam_real\u001b[39m\u001b[38;5;124m'\u001b[39m][:]\u001b[38;5;241m+\u001b[39m\u001b[38;5;241m1\u001b[39mj\u001b[38;5;241m*\u001b[39mf[\u001b[38;5;124m'\u001b[39m\u001b[38;5;124mF_beam_imag\u001b[39m\u001b[38;5;124m'\u001b[39m][:]\n\u001b[0;32m    441\u001b[0m         F_M1\u001b[38;5;241m=\u001b[39mf[\u001b[38;5;124m'\u001b[39m\u001b[38;5;124mF_m1_real\u001b[39m\u001b[38;5;124m'\u001b[39m][:]\u001b[38;5;241m+\u001b[39m\u001b[38;5;241m1\u001b[39mj\u001b[38;5;241m*\u001b[39mf[\u001b[38;5;124m'\u001b[39m\u001b[38;5;124mF_m1_imag\u001b[39m\u001b[38;5;124m'\u001b[39m][:]\n",
      "File \u001b[1;32md:\\anaconda3\\envs\\CCATholo\\lib\\site-packages\\h5py\\_hl\\files.py:507\u001b[0m, in \u001b[0;36mFile.__init__\u001b[1;34m(self, name, mode, driver, libver, userblock_size, swmr, rdcc_nslots, rdcc_nbytes, rdcc_w0, track_order, fs_strategy, fs_persist, fs_threshold, fs_page_size, page_buf_size, min_meta_keep, min_raw_keep, locking, **kwds)\u001b[0m\n\u001b[0;32m    502\u001b[0m     fapl \u001b[38;5;241m=\u001b[39m make_fapl(driver, libver, rdcc_nslots, rdcc_nbytes, rdcc_w0,\n\u001b[0;32m    503\u001b[0m                      locking, page_buf_size, min_meta_keep, min_raw_keep, \u001b[38;5;241m*\u001b[39m\u001b[38;5;241m*\u001b[39mkwds)\n\u001b[0;32m    504\u001b[0m     fcpl \u001b[38;5;241m=\u001b[39m make_fcpl(track_order\u001b[38;5;241m=\u001b[39mtrack_order, fs_strategy\u001b[38;5;241m=\u001b[39mfs_strategy,\n\u001b[0;32m    505\u001b[0m                      fs_persist\u001b[38;5;241m=\u001b[39mfs_persist, fs_threshold\u001b[38;5;241m=\u001b[39mfs_threshold,\n\u001b[0;32m    506\u001b[0m                      fs_page_size\u001b[38;5;241m=\u001b[39mfs_page_size)\n\u001b[1;32m--> 507\u001b[0m     fid \u001b[38;5;241m=\u001b[39m \u001b[43mmake_fid\u001b[49m\u001b[43m(\u001b[49m\u001b[43mname\u001b[49m\u001b[43m,\u001b[49m\u001b[43m \u001b[49m\u001b[43mmode\u001b[49m\u001b[43m,\u001b[49m\u001b[43m \u001b[49m\u001b[43muserblock_size\u001b[49m\u001b[43m,\u001b[49m\u001b[43m \u001b[49m\u001b[43mfapl\u001b[49m\u001b[43m,\u001b[49m\u001b[43m \u001b[49m\u001b[43mfcpl\u001b[49m\u001b[43m,\u001b[49m\u001b[43m \u001b[49m\u001b[43mswmr\u001b[49m\u001b[38;5;241;43m=\u001b[39;49m\u001b[43mswmr\u001b[49m\u001b[43m)\u001b[49m\n\u001b[0;32m    509\u001b[0m \u001b[38;5;28;01mif\u001b[39;00m \u001b[38;5;28misinstance\u001b[39m(libver, \u001b[38;5;28mtuple\u001b[39m):\n\u001b[0;32m    510\u001b[0m     \u001b[38;5;28mself\u001b[39m\u001b[38;5;241m.\u001b[39m_libver \u001b[38;5;241m=\u001b[39m libver\n",
      "File \u001b[1;32md:\\anaconda3\\envs\\CCATholo\\lib\\site-packages\\h5py\\_hl\\files.py:220\u001b[0m, in \u001b[0;36mmake_fid\u001b[1;34m(name, mode, userblock_size, fapl, fcpl, swmr)\u001b[0m\n\u001b[0;32m    218\u001b[0m     \u001b[38;5;28;01mif\u001b[39;00m swmr \u001b[38;5;129;01mand\u001b[39;00m swmr_support:\n\u001b[0;32m    219\u001b[0m         flags \u001b[38;5;241m|\u001b[39m\u001b[38;5;241m=\u001b[39m h5f\u001b[38;5;241m.\u001b[39mACC_SWMR_READ\n\u001b[1;32m--> 220\u001b[0m     fid \u001b[38;5;241m=\u001b[39m \u001b[43mh5f\u001b[49m\u001b[38;5;241;43m.\u001b[39;49m\u001b[43mopen\u001b[49m\u001b[43m(\u001b[49m\u001b[43mname\u001b[49m\u001b[43m,\u001b[49m\u001b[43m \u001b[49m\u001b[43mflags\u001b[49m\u001b[43m,\u001b[49m\u001b[43m \u001b[49m\u001b[43mfapl\u001b[49m\u001b[38;5;241;43m=\u001b[39;49m\u001b[43mfapl\u001b[49m\u001b[43m)\u001b[49m\n\u001b[0;32m    221\u001b[0m \u001b[38;5;28;01melif\u001b[39;00m mode \u001b[38;5;241m==\u001b[39m \u001b[38;5;124m'\u001b[39m\u001b[38;5;124mr+\u001b[39m\u001b[38;5;124m'\u001b[39m:\n\u001b[0;32m    222\u001b[0m     fid \u001b[38;5;241m=\u001b[39m h5f\u001b[38;5;241m.\u001b[39mopen(name, h5f\u001b[38;5;241m.\u001b[39mACC_RDWR, fapl\u001b[38;5;241m=\u001b[39mfapl)\n",
      "File \u001b[1;32mh5py\\_objects.pyx:54\u001b[0m, in \u001b[0;36mh5py._objects.with_phil.wrapper\u001b[1;34m()\u001b[0m\n",
      "File \u001b[1;32mh5py\\_objects.pyx:55\u001b[0m, in \u001b[0;36mh5py._objects.with_phil.wrapper\u001b[1;34m()\u001b[0m\n",
      "File \u001b[1;32mh5py\\h5f.pyx:106\u001b[0m, in \u001b[0;36mh5py.h5f.open\u001b[1;34m()\u001b[0m\n",
      "\u001b[1;31mFileNotFoundError\u001b[0m: [Errno 2] Unable to open file (unable to open file: name = 'test/data_Rx_dx0_dy0_dz715.h5py', errno = 2, error message = 'No such file or directory', flags = 0, o_flags = 0)"
     ]
    }
   ],
   "source": [
    "# 5.1 check the beams\n",
    "#dz_Rx=705\n",
    "Model.plot_beam(Output_folder+'/data_Rx_dx0_dy0_dz'+str(dz_Rx)+'.h5py')\n",
    "Model.plot_beam(Output_folder+'/data_Rx_dx400_dy400_dz'+str(dz_Rx)+'.h5py')\n",
    "Model.plot_beam(Output_folder+'/data_Rx_dx400_dy-400_dz'+str(dz_Rx)+'.h5py')\n",
    "Model.plot_beam(Output_folder+'/data_Rx_dx-400_dy400_dz'+str(dz_Rx)+'.h5py')\n",
    "Model.plot_beam(Output_folder+'/data_Rx_dx-400_dy-400_dz'+str(dz_Rx)+'.h5py')"
   ]
  },
  {
   "cell_type": "code",
   "execution_count": null,
   "metadata": {},
   "outputs": [],
   "source": []
  }
 ],
 "metadata": {
  "kernelspec": {
   "display_name": "ccatholo",
   "language": "python",
   "name": "python3"
  },
  "language_info": {
   "codemirror_mode": {
    "name": "ipython",
    "version": 3
   },
   "file_extension": ".py",
   "mimetype": "text/x-python",
   "name": "python",
   "nbconvert_exporter": "python",
   "pygments_lexer": "ipython3",
   "version": "3.9.12"
  }
 },
 "nbformat": 4,
 "nbformat_minor": 2
}
