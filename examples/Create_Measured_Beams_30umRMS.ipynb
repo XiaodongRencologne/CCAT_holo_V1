{
 "cells": [
  {
   "cell_type": "code",
   "execution_count": null,
   "metadata": {},
   "outputs": [],
   "source": [
    "import sys,os\n",
    "sys.path.append('..')\n",
    "import h5py\n",
    "import time\n",
    "import numpy as np\n",
    "import matplotlib.pyplot as plt\n",
    "import torch as T\n",
    "from ccat_holo.Pyccat import CCAT_holo\n",
    "\n",
    "DEVICE0=T.device('cpu')\n",
    "measuredbeams='../Meas_beams/GRASP_296GHz_51_51.txt'"
   ]
  },
  {
   "cell_type": "code",
   "execution_count": null,
   "metadata": {},
   "outputs": [],
   "source": [
    "'''Calculate the beam of distorted beam maps'''\n",
    "holo_setup={'Rx1':([2,0,605],'../scan/51/on-axis.txt'),\n",
    "            'Rx2':([400-3,400,605],'../scan/51/400_400_600.txt'),\n",
    "            'Rx3':([400+1,-400+1,605],'../scan/51/400_-400_600.txt'),\n",
    "            'Rx4':([-400+2,400-1,605],'../scan/51/-400_400_600.txt'),\n",
    "            'Rx5':([-400+3,-400+3,605],'../scan/51/-400_-400_600.txt')\n",
    "            }\n",
    "Model=CCAT_holo('../CCAT_model','../Meas_beams',holo_conf=holo_setup)\n",
    "S=np.genfromtxt('../Meas_beams/input_error_panel.txt')"
   ]
  },
  {
   "cell_type": "code",
   "execution_count": null,
   "metadata": {},
   "outputs": [],
   "source": [
    "# case without large deformation on M1 and M2\n",
    "E_m2=0\n",
    "E_m1=0\n",
    "model.First_Beam_cal(S2_init=S[0:5*69],\n",
    "                     S1_init=S[5*69:],\n",
    "                     Matrix=True,\n",
    "                     Error_m2=E_m2,Error_m1=E_m1)"
   ]
  },
  {
   "cell_type": "code",
   "execution_count": null,
   "metadata": {},
   "outputs": [],
   "source": [
    "'''read the simulated '''\n",
    "model.mk_FF(fitting_param='panel adjusters',\n",
    "            Device=T.device('cpu'),\n",
    "            Memory_reduc=False)\n",
    "\n",
    "S0=T.tensor(np.zeros(5*(69+77)))\n",
    "P_amp=np.zeros((5,6))\n",
    "P_amp[:,0]=1\n",
    "P_amp=T.tensor(P_amp.ravel())\n",
    "P_phase=T.tensor(np.zeros(5*5))\n",
    "\n",
    "DATA=model.FF(S0,P_amp,P_phase)\n",
    "np.savetxt(measuredbeams,DATA.numpy(),delimiter=',')"
   ]
  },
  {
   "cell_type": "markdown",
   "metadata": {},
   "source": [
    "# Model with large-scale deforamtions (twisted errors) on M2, panel errors and Rx position errors"
   ]
  },
  {
   "cell_type": "code",
   "execution_count": null,
   "metadata": {},
   "outputs": [],
   "source": [
    "import h5py\n",
    "import time\n",
    "import numpy as np\n",
    "import matplotlib.pyplot as plt\n",
    "import torch as T\n",
    "from ccat_holo.Pyccat import CCAT_holo\n",
    "\n",
    "DEVICE0=T.device('cpu')\n",
    "measuredbeams1='../Meas_beams2/GRASP_296GHz_51_51_Large_deformations.txt'"
   ]
  },
  {
   "cell_type": "code",
   "execution_count": null,
   "metadata": {},
   "outputs": [],
   "source": [
    "'''Calculate the beam of distorted beam maps'''\n",
    "holo_setup={'Rx1':([2,0,605],'../scan/51/on-axis.txt'),\n",
    "            'Rx2':([400-3,400,605],'../scan/51/400_400_600.txt'),\n",
    "            'Rx3':([400+1,-400+1,605],'../scan/51/400_-400_600.txt'),\n",
    "            'Rx4':([-400+2,400-1,605],'../scan/51/-400_400_600.txt'),\n",
    "            'Rx5':([-400+3,-400+3,605],'../scan/51/-400_-400_600.txt')\n",
    "            }\n",
    "Model=CCAT_holo('../CCAT_model','../Meas_beams2',holo_conf=holo_setup)\n",
    "S=np.genfromtxt('../Meas_beams/input_error_panel.txt')\n"
   ]
  },
  {
   "cell_type": "code",
   "execution_count": null,
   "metadata": {},
   "outputs": [],
   "source": [
    "# case without large deformation on M1 and M2, for example M2 is twisted.\n",
    "co=np.array([[0., 0., 0.],\n",
    "             [0., 0.23, 0.],\n",
    "             [0., 0., 0.]])\n",
    "E_m2=np.polynomial.polynomial.polyval2d(Model.m2_0.x/Model.R2,Model.m2_0.y/Model.R2,co)\n",
    "E_m1=0\n",
    "Model.First_Beam_cal(S2_init=S[0:5*69],\n",
    "                     S1_init=S[5*69:],\n",
    "                     Matrix=True,\n",
    "                     Error_m2=E_m2,Error_m1=E_m1)"
   ]
  },
  {
   "cell_type": "code",
   "execution_count": null,
   "metadata": {},
   "outputs": [],
   "source": [
    "'''read the simulated '''\n",
    "Model.mk_FF(fitting_param='panel adjusters',\n",
    "            Device=T.device('cpu'),\n",
    "            Memory_reduc=False)\n",
    "\n",
    "S0=T.tensor(np.zeros(5*(69+77)))\n",
    "P_amp=np.zeros((5,6))\n",
    "P_amp[:,0]=1\n",
    "P_amp=T.tensor(P_amp.ravel())\n",
    "P_phase=T.tensor(np.zeros(5*5))\n",
    "\n",
    "DATA=Model.FF(S0,P_amp,P_phase)\n",
    "np.savetxt(measuredbeams1,DATA.numpy(),delimiter=',')"
   ]
  },
  {
   "cell_type": "code",
   "execution_count": null,
   "metadata": {},
   "outputs": [],
   "source": [
    "Model.m2_0.y.max()/Model.R2"
   ]
  },
  {
   "cell_type": "markdown",
   "metadata": {},
   "source": [
    "# Model with large-scale deforamtions on M2, no panel errors, no Rx position errors"
   ]
  },
  {
   "cell_type": "code",
   "execution_count": null,
   "metadata": {},
   "outputs": [],
   "source": [
    "import h5py\n",
    "import time\n",
    "import numpy as np\n",
    "import matplotlib.pyplot as plt\n",
    "import torch as T\n",
    "from ccat_holo.Pyccat import CCAT_holo\n",
    "\n",
    "DEVICE0=T.device('cpu')\n",
    "measuredbeams2='../Meas_beams2/GRASP_296GHz_51_51_Large_deformations_0.txt'\n",
    "\n",
    "'''Calculate the beam of distorted beam maps'''\n",
    "holo_setup={'Rx1':([0,0,600],'../scan/51/on-axis.txt'),\n",
    "            'Rx2':([400-0,400,600],'../scan/51/400_400_600.txt'),\n",
    "            'Rx3':([400+0,-400+0,600],'../scan/51/400_-400_600.txt'),\n",
    "            'Rx4':([-400+0,400-0,600],'../scan/51/-400_400_600.txt'),\n",
    "            'Rx5':([-400+0,-400+0,600],'../scan/51/-400_-400_600.txt')\n",
    "            }\n",
    "Model=CCAT_holo('../CCAT_model','../Meas_beams2',holo_conf=holo_setup)\n",
    "S=np.zeros(5*(69+77))"
   ]
  },
  {
   "cell_type": "code",
   "execution_count": null,
   "metadata": {},
   "outputs": [],
   "source": [
    "# case without large deformation on M1 and M2, for example M2 is twisted.\n",
    "co=np.array([[0., 0., 0.],\n",
    "             [0., 0.23, 0.],\n",
    "             [0., 0., 0.]])\n",
    "E_m2=0#np.polynomial.polynomial.polyval2d(Model.m2_0.x/Model.R2,Model.m2_0.y/Model.R2,co)\n",
    "E_m1=0\n",
    "Model.First_Beam_cal(S2_init=S[0:5*69],\n",
    "                     S1_init=S[5*69:],\n",
    "                     Matrix=True,\n",
    "                     Error_m2=E_m2,Error_m1=E_m1)"
   ]
  },
  {
   "cell_type": "code",
   "execution_count": null,
   "metadata": {},
   "outputs": [],
   "source": [
    "'''read the simulated '''\n",
    "Model.mk_FF(fitting_param='panel adjusters',\n",
    "            Device=T.device('cpu'),\n",
    "            Memory_reduc=False)\n",
    "\n",
    "S0=T.tensor(np.zeros(5*(69+77)))\n",
    "P_amp=np.zeros((5,6))\n",
    "P_amp[:,0]=1\n",
    "P_amp=T.tensor(P_amp.ravel())\n",
    "P_phase=T.tensor(np.zeros(5*5))\n",
    "\n",
    "DATA=Model.FF(S0,P_amp,P_phase)\n",
    "np.savetxt(measuredbeams2,DATA.numpy(),delimiter=',')"
   ]
  },
  {
   "cell_type": "markdown",
   "metadata": {},
   "source": [
    "# Model with large-scale deforamtions on M2 M1 & panel errors"
   ]
  },
  {
   "cell_type": "code",
   "execution_count": null,
   "metadata": {},
   "outputs": [],
   "source": [
    "import h5py\n",
    "import time\n",
    "import numpy as np\n",
    "import matplotlib.pyplot as plt\n",
    "import torch as T\n",
    "from ccat_holo.Pyccat import CCAT_holo\n",
    "\n",
    "DEVICE0=T.device('cpu')\n",
    "measuredbeams1='../Meas_beams2/GRASP_296GHz_51_51_Large_deformations_m2_m1.txt'"
   ]
  },
  {
   "cell_type": "code",
   "execution_count": null,
   "metadata": {},
   "outputs": [],
   "source": [
    "'''Calculate the beam of distorted beam maps'''\n",
    "holo_setup={'Rx1':([2,0,605],'../scan/51/on-axis.txt'),\n",
    "            'Rx2':([400-3,400,605],'../scan/51/400_400_600.txt'),\n",
    "            'Rx3':([400+1,-400+1,605],'../scan/51/400_-400_600.txt'),\n",
    "            'Rx4':([-400+2,400-1,605],'../scan/51/-400_400_600.txt'),\n",
    "            'Rx5':([-400+3,-400+3,605],'../scan/51/-400_-400_600.txt')\n",
    "            }\n",
    "Model=CCAT_holo('../CCAT_model','../Meas_beams2',holo_conf=holo_setup)\n",
    "S=np.genfromtxt('../Meas_beams/input_error_panel.txt')\n",
    "\n",
    "\n",
    "# case without large deformation on M1 and M2, for example M2 is twisted.\n",
    "co2=np.array([[0., 0., 0.15],\n",
    "             [0., 0.23, -0.05],\n",
    "             [-0.02, 0., 0.1]])\n",
    "E_m2=np.polynomial.polynomial.polyval2d(Model.m2_0.x/Model.R2,Model.m2_0.y/Model.R2,co2)\n",
    "co1=np.array([[-0.03389496, -0.02361125, -0.11400925],\n",
    "              [-0.04773631,  0.05859948,  0.05778664],\n",
    "              [ 0.01346402, -0.20759481,  0.02528261]])\n",
    "E_m1=np.polynomial.polynomial.polyval2d(Model.m1_0.x/Model.R1,Model.m1_0.y/Model.R1,co1)\n",
    "\n",
    "Model.First_Beam_cal(S2_init=S[0:5*69],\n",
    "                     S1_init=S[5*69:],\n",
    "                     Matrix=True,\n",
    "                     Error_m2=E_m2,Error_m1=E_m1)\n",
    "\n",
    "'''read the simulated '''\n",
    "Model.mk_FF(fitting_param='panel adjusters',\n",
    "            Device=T.device('cpu'),\n",
    "            Memory_reduc=False)\n",
    "\n",
    "S0=T.tensor(np.zeros(5*(69+77)))\n",
    "P_amp=np.zeros((5,6))\n",
    "P_amp[:,0]=1\n",
    "P_amp=T.tensor(P_amp.ravel())\n",
    "P_phase=T.tensor(np.zeros(5*5))\n",
    "\n",
    "DATA=Model.FF(S0,P_amp,P_phase)\n",
    "np.savetxt(measuredbeams1,DATA.numpy(),delimiter=',')"
   ]
  }
 ],
 "metadata": {
  "kernelspec": {
   "display_name": "CCATholo",
   "language": "python",
   "name": "python3"
  },
  "language_info": {
   "codemirror_mode": {
    "name": "ipython",
    "version": 3
   },
   "file_extension": ".py",
   "mimetype": "text/x-python",
   "name": "python",
   "nbconvert_exporter": "python",
   "pygments_lexer": "ipython3",
   "version": "3.9.12"
  }
 },
 "nbformat": 4,
 "nbformat_minor": 2
}
