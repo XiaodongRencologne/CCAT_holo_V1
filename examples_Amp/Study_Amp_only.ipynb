{
 "cells": [
  {
   "cell_type": "code",
   "execution_count": 1,
   "metadata": {},
   "outputs": [],
   "source": [
    "import sys,os\n",
    "sys.path.append('..')\n",
    "from ccat_holo.Pyccat import CCAT_holo\n",
    "import time\n",
    "import torch as T\n",
    "import numpy as np\n",
    "import h5py\n",
    "\n",
    "\n",
    "from ccat_holo.fitting_error_plot import Fit_M_Surface,Fit_M_Surface_zk,colormap\n",
    "from ccat_holo.pyplot import plot_beamcontour\n",
    "from ccat_holo.zernike_torch import N as poly_N"
   ]
  },
  {
   "cell_type": "code",
   "execution_count": 2,
   "metadata": {},
   "outputs": [
    {
     "name": "stdout",
     "output_type": "stream",
     "text": [
      "FYST telescope model has been created!!\n"
     ]
    }
   ],
   "source": [
    "#dz_Rx=715\n",
    "# 1. Model folder\n",
    "Model_folder='../CCAT_model2'\n",
    "# 2. Configuration of the Holography system\n",
    "holo_setup={'Rx1':([0,0,600],'../scan/mainbeam/on-axis.txt'),\n",
    "            #'Rx2':([400,400,600],'../scan/mainbeam/pos_pos_near.txt'),\n",
    "            #'Rx3':([400,-400,600],'../scan/mainbeam/pos_neg_near.txt'),\n",
    "            #'Rx4':([-400,400,600],'../scan/mainbeam/neg_pos_near.txt'),\n",
    "            #'Rx5':([-400,-400,600],'../scan/mainbeam/neg_neg_near.txt')\n",
    "            }\n",
    "# Define 5 receiver positions in the 'Coord_Rx' system, e.g [+/-400,+/-400,600]\n",
    "# and their field points that are stored in file 'scan/400_400_600.txt'. The field\n",
    "# points of the measured beam maps are from the read out of the telescope coders.\n",
    "#####################\n",
    "# 3. Output_folder is the folder used to store the intermediate data of the first\n",
    "#    beam calculation and the analysing results.\n",
    "#Output_folder='Analysis_beam'\n",
    "Output_folder='test_square'\n",
    "# 4. Create the FYST holography Model and check the telescope model and \n",
    "# holographic setup in the 3D view.\n",
    "Model=CCAT_holo(Model_folder,Output_folder,holo_conf=holo_setup)"
   ]
  },
  {
   "cell_type": "code",
   "execution_count": 3,
   "metadata": {},
   "outputs": [
    {
     "name": "stdout",
     "output_type": "stream",
     "text": [
      "[-1.2490457723982542, 0, 0] [0, -4799.999999999999, 0]\n"
     ]
    },
    {
     "data": {
      "application/vnd.jupyter.widget-view+json": {
       "model_id": "682c350082764d6381b544179cf1903e",
       "version_major": 2,
       "version_minor": 0
      },
      "text/plain": [
       "Widget(value='<iframe src=\"http://localhost:62438/index.html?ui=P_0x1922a2ee6d0_0&reconnect=auto\" class=\"pyvis…"
      ]
     },
     "metadata": {},
     "output_type": "display_data"
    }
   ],
   "source": [
    "Model.view() # Show 3D FYST model and its receivers.\n",
    "Model.view_Rx(Rx=['Rx2']) # This method can highlight the chosen reciever horns."
   ]
  },
  {
   "cell_type": "code",
   "execution_count": 7,
   "metadata": {},
   "outputs": [
    {
     "name": "stdout",
     "output_type": "stream",
     "text": [
      "The holographic setup:\n",
      "Rx1 : [0, 0, 600] ../scan/mainbeam/on-axis.txt\n",
      "\n",
      "***Start the initial beam calculations \n",
      "***and prepare the required Matrixes used to speed up the forward beam calculations.\n",
      "Rx1 : [0, 0, 600] ../scan/mainbeam/on-axis.txt\n",
      "step 1:\n",
      "\n",
      "step 2:\n",
      "\n",
      "step 3:\n",
      "\n",
      "step 4:\n",
      "\n",
      "time used: 698.0073993999999\n"
     ]
    }
   ],
   "source": [
    "# 5. Running the time-consuming first beam calculation.\n",
    "Model.First_Beam_cal(S2_init=np.zeros(5),S1_init=np.zeros(5))\n",
    "\n",
    "# 6. Make the farward beam calculation function, (Model.FF)\n",
    "z_order=7\n",
    "#Model.mk_FF(fitting_param='zernike',Device=T.device('cuda'),Z_order=z_order)"
   ]
  },
  {
   "cell_type": "code",
   "execution_count": 5,
   "metadata": {},
   "outputs": [
    {
     "data": {
      "text/plain": [
       "1245.9935794377113"
      ]
     },
     "execution_count": 5,
     "metadata": {},
     "output_type": "execute_result"
    }
   ],
   "source": [
    "np.sqrt(1552500)"
   ]
  },
  {
   "cell_type": "code",
   "execution_count": 5,
   "metadata": {},
   "outputs": [],
   "source": [
    "for n in range(10):\n",
    "    Model.FF(T.zeros((2,poly_N(z_order))).to(T.device('cuda')),\n",
    "                  T.zeros(5*6),\n",
    "                  T.zeros(5*5)).cpu().numpy()"
   ]
  },
  {
   "cell_type": "code",
   "execution_count": 7,
   "metadata": {},
   "outputs": [],
   "source": [
    "# 7. load the meausred beams\n",
    "'''Meaused data'''\n",
    "Meas_beam=np.genfromtxt('./Meas_beams/GRASP_296GHz_31_31_0_23Twist_10umPanel.txt',delimiter=',')\n",
    "Meas_beam=T.tensor(Meas_beam).to(T.device('cuda'))\n",
    "Power = T.sum(T.sum(Meas_beam.reshape(5,2,-1)**2,axis=-2),axis=-1).repeat(2).reshape(5*2,-1)\n",
    "for n in range(10):\n",
    "    Meas_beam[n,:] = Meas_beam[n,:] + \\\n",
    "        T.tensor(np.random.normal(0,np.sqrt(Power[n].cpu().numpy())*10**(-50/20),\n",
    "                                  Meas_beam.size()[1]),\n",
    "                                  dtype=T.float64,device =T.device('cuda'))"
   ]
  },
  {
   "cell_type": "code",
   "execution_count": null,
   "metadata": {},
   "outputs": [],
   "source": [
    "# 8. Find the large-scale parameters. The fitting results are stored in file 'fit_LP.h5py'\n",
    "Model.fit_LP(Meas_beam,Device=T.device('cuda'),outputfilename='fit_LP_zk_0_m2m1',Init=np.zeros((2,poly_N(z_order))))"
   ]
  },
  {
   "cell_type": "code",
   "execution_count": 9,
   "metadata": {},
   "outputs": [],
   "source": [
    "# Load the results from h5py file\n",
    "with h5py.File(Output_folder+'/fit_LP_zk_0_m2m1.h5','r') as f:\n",
    "    fit_LP=f['x'][:]"
   ]
  },
  {
   "cell_type": "code",
   "execution_count": null,
   "metadata": {},
   "outputs": [],
   "source": [
    "fit_LP[5*6:].reshape(5,-1)"
   ]
  },
  {
   "cell_type": "code",
   "execution_count": null,
   "metadata": {},
   "outputs": [],
   "source": [
    "Beams_LP=Model.FF(T.zeros((2,poly_N(z_order))).to(T.device('cuda')),\n",
    "                  fit_LP[0:5*6],\n",
    "                  fit_LP[5*6:]).cpu().numpy()\n",
    "Beams_ref=Model.FF(T.zeros((2,poly_N(z_order))).to(T.device('cuda')),\n",
    "                  T.tensor([1,0,0,0,0,0,\n",
    "                            1,0,0,0,0,0,\n",
    "                            1,0,0,0,0,0,\n",
    "                            1,0,0,0,0,0,\n",
    "                            1,0,0,0,0,0]),\n",
    "                  T.zeros(5*5)).cpu().numpy()\n",
    "# Blue contour lines represent reference beams.\n",
    "# Red is the fitted beams for the measured beams. \n",
    "x0=np.linspace(-1,1,31)\n",
    "y0=np.linspace(-1,1,31)\n",
    "plot_beamcontour(x0,y0,Beams_LP,Meas_beam.cpu().numpy(),#Beams_ref,\n",
    "                 levels=[-35,-30,-20,-15])"
   ]
  },
  {
   "cell_type": "code",
   "execution_count": null,
   "metadata": {},
   "outputs": [],
   "source": [
    "# 9. analysis the surface errors\n",
    "Model.fit_surface_zk(Meas_beam,\n",
    "                  constraint=[0.1,0.1],\n",
    "                  Device=T.device('cuda'),\n",
    "                  Init_LP=fit_LP,\n",
    "                  outputfilename='fit_adjusters_zernike_0_m2m1')"
   ]
  },
  {
   "cell_type": "code",
   "execution_count": 13,
   "metadata": {},
   "outputs": [],
   "source": [
    "# Load the results from h5py file\n",
    "with h5py.File(Output_folder+'/fit_adjusters_zernike_0_m2m1.h5','r') as f:\n",
    "    fit_zk=f['x'][:]"
   ]
  },
  {
   "cell_type": "code",
   "execution_count": null,
   "metadata": {},
   "outputs": [],
   "source": [
    "Fit_M_Surface_zk(fit_zk[0:-5*11],z_order,model_file='../CCAT_model',vmax=50,vmin=-50)"
   ]
  },
  {
   "cell_type": "code",
   "execution_count": null,
   "metadata": {},
   "outputs": [],
   "source": [
    "Beams_zk=Model.FF(T.cat((T.zeros((2,1)),T.tensor(fit_zk[0:-5*11]).reshape(2,-1)),axis=1).to(T.device('cuda')),\n",
    "                  T.tensor(fit_zk[-5*11:-5*5]).to(T.device('cuda')),\n",
    "                  T.tensor(fit_zk[-5*5:]).to(T.device('cuda'))).cpu().numpy()\n",
    "Beams_ref=Model.FF(T.zeros((2,poly_N(z_order))).to(T.device('cuda')),\n",
    "                  T.tensor([1,0,0,0,0,0,\n",
    "                            1,0,0,0,0,0,\n",
    "                            1,0,0,0,0,0,\n",
    "                            1,0,0,0,0,0,\n",
    "                            1,0,0,0,0,0]).to(T.device('cuda')),\n",
    "                  T.zeros(5*5).to(T.device('cuda'))).cpu().numpy()\n",
    "# Blue contour lines represent reference beams.\n",
    "# Red is the fitted beams for the measured beams. \n",
    "x0=np.linspace(-1,1,31)\n",
    "y0=np.linspace(-1,1,31)\n",
    "plot_beamcontour(x0,y0,Beams_zk,Meas_beam.cpu().numpy(),\n",
    "                 levels=[-35,-30,-20,-15])"
   ]
  },
  {
   "cell_type": "code",
   "execution_count": null,
   "metadata": {},
   "outputs": [],
   "source": [
    "# 9. analysis the surface errors\n",
    "Model.fit_surface_zk_Amp(Meas_beam,\n",
    "                  constraint=[1,1],\n",
    "                  Device=T.device('cuda'),\n",
    "                  Init_LP=fit_LP,\n",
    "                  outputfilename='fit_adjusters_zernike_0_AMP_m2m1')\n"
   ]
  },
  {
   "cell_type": "code",
   "execution_count": 17,
   "metadata": {},
   "outputs": [],
   "source": [
    "# Load the results from h5py file\n",
    "with h5py.File(Output_folder+'/fit_adjusters_zernike_0_AMP_m2m1.h5','r') as f:\n",
    "    fit_zk_AMP=f['x'][:]"
   ]
  },
  {
   "cell_type": "code",
   "execution_count": null,
   "metadata": {},
   "outputs": [],
   "source": [
    "Fit_M_Surface_zk(fit_zk_AMP[0:-5*11],z_order,model_file='../CCAT_model',vmax=100,vmin=-100)"
   ]
  },
  {
   "cell_type": "code",
   "execution_count": null,
   "metadata": {},
   "outputs": [],
   "source": [
    "Beams_zk=Model.FF(T.cat((T.zeros((2,1)),T.tensor(fit_zk_AMP[0:-5*11]).reshape(2,-1)),axis=1).to(T.device('cuda')),\n",
    "                  T.tensor(fit_zk_AMP[-5*11:-5*5]).to(T.device('cuda')),\n",
    "                  T.tensor(fit_zk_AMP[-5*5:]).to(T.device('cuda'))).cpu().numpy()\n",
    "Beams_ref=Model.FF(T.zeros((2,poly_N(z_order))).to(T.device('cuda')),\n",
    "                  T.tensor([1,0,0,0,0,0,\n",
    "                            1,0,0,0,0,0,\n",
    "                            1,0,0,0,0,0,\n",
    "                            1,0,0,0,0,0,\n",
    "                            1,0,0,0,0,0]).to(T.device('cuda')),\n",
    "                  T.zeros(5*5).to(T.device('cuda'))).cpu().numpy()\n",
    "# Blue contour lines represent reference beams.\n",
    "# Red is the fitted beams for the measured beams. \n",
    "x0=np.linspace(-1,1,31)\n",
    "y0=np.linspace(-1,1,31)\n",
    "plot_beamcontour(x0,y0,Beams_zk,Meas_beam.cpu().numpy(),\n",
    "                 levels=[-35,-30,-20,-15])"
   ]
  },
  {
   "cell_type": "code",
   "execution_count": null,
   "metadata": {},
   "outputs": [],
   "source": []
  }
 ],
 "metadata": {
  "kernelspec": {
   "display_name": "Python 3",
   "language": "python",
   "name": "python3"
  },
  "language_info": {
   "codemirror_mode": {
    "name": "ipython",
    "version": 3
   },
   "file_extension": ".py",
   "mimetype": "text/x-python",
   "name": "python",
   "nbconvert_exporter": "python",
   "pygments_lexer": "ipython3",
   "version": "3.9.20"
  }
 },
 "nbformat": 4,
 "nbformat_minor": 2
}
