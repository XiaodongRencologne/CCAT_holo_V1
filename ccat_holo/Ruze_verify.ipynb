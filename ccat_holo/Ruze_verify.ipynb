{
 "cells": [
  {
   "cell_type": "code",
   "execution_count": 1,
   "metadata": {},
   "outputs": [
    {
     "ename": "ModuleNotFoundError",
     "evalue": "No module named 'Pyccat2'",
     "output_type": "error",
     "traceback": [
      "\u001b[1;31m---------------------------------------------------------------------------\u001b[0m",
      "\u001b[1;31mModuleNotFoundError\u001b[0m                       Traceback (most recent call last)",
      "\u001b[1;32m<ipython-input-1-0508b850d8c1>\u001b[0m in \u001b[0;36m<module>\u001b[1;34m\u001b[0m\n\u001b[0;32m      3\u001b[0m \u001b[0mc\u001b[0m\u001b[1;33m=\u001b[0m\u001b[1;36m299792458\u001b[0m\u001b[1;33m;\u001b[0m\u001b[1;33m\u001b[0m\u001b[1;33m\u001b[0m\u001b[0m\n\u001b[0;32m      4\u001b[0m \u001b[1;33m\u001b[0m\u001b[0m\n\u001b[1;32m----> 5\u001b[1;33m \u001b[1;32mimport\u001b[0m \u001b[0mPyccat2\u001b[0m\u001b[1;33m;\u001b[0m\u001b[1;33m\u001b[0m\u001b[1;33m\u001b[0m\u001b[0m\n\u001b[0m\u001b[0;32m      6\u001b[0m \u001b[1;32mfrom\u001b[0m \u001b[0mPyccat2\u001b[0m \u001b[1;32mimport\u001b[0m \u001b[0mfield_calculation\u001b[0m\u001b[1;33m,\u001b[0m\u001b[0mfield_calculation_far\u001b[0m\u001b[1;33m;\u001b[0m\u001b[1;33m\u001b[0m\u001b[1;33m\u001b[0m\u001b[0m\n\u001b[0;32m      7\u001b[0m \u001b[1;33m\u001b[0m\u001b[0m\n",
      "\u001b[1;31mModuleNotFoundError\u001b[0m: No module named 'Pyccat2'"
     ]
    }
   ],
   "source": [
    "import numpy as np;\n",
    "import matplotlib.pyplot as plt;\n",
    "c=299792458;\n",
    "\n",
    "import Pyccat2;\n",
    "from Pyccat2 import field_calculation,field_calculation_far;\n",
    "\n",
    "import Kirchhoffpy;\n",
    "from Kirchhoffpy.coordinate_operations import Coord;\n",
    "from Kirchhoffpy.BeamPattern import squarePattern1"
   ]
  },
  {
   "cell_type": "code",
   "execution_count": null,
   "metadata": {},
   "outputs": [],
   "source": [
    "'''\n",
    "1. to verify the surface error by using Ruze theory\n",
    "G/G0=exp(-(4*pi*err/Lambda)^2);\n",
    "'''\n",
    "def ruze_verify(Gain0,Gain,freq):\n",
    "    Lambda=c/(freq*10**9)*1000;\n",
    "    r=Gain/Gain0;\n",
    "    err=np.sqrt(-np.log10(r)/np.log10(np.exp(1)))/4/np.pi*Lambda*1000;\n",
    "    \n",
    "    return err;"
   ]
  },
  {
   "cell_type": "code",
   "execution_count": null,
   "metadata": {},
   "outputs": [],
   "source": []
  }
 ],
 "metadata": {
  "kernelspec": {
   "display_name": "Python 3",
   "language": "python",
   "name": "python3"
  },
  "language_info": {
   "codemirror_mode": {
    "name": "ipython",
    "version": 3
   },
   "file_extension": ".py",
   "mimetype": "text/x-python",
   "name": "python",
   "nbconvert_exporter": "python",
   "pygments_lexer": "ipython3",
   "version": "3.7.4"
  }
 },
 "nbformat": 4,
 "nbformat_minor": 2
}
