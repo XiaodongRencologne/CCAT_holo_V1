{
 "cells": [
  {
   "cell_type": "code",
   "execution_count": null,
   "metadata": {},
   "outputs": [],
   "source": [
    "import sys,os\n",
    "sys.path.append('..')\n",
    "from ccat_holo.Pyccat_half import CCAT_holo_half\n",
    "import time\n",
    "import torch as T\n",
    "import numpy as np\n",
    "import h5py"
   ]
  },
  {
   "cell_type": "code",
   "execution_count": null,
   "metadata": {},
   "outputs": [],
   "source": [
    "dz_Rx=715\n",
    "# 1. Model folder\n",
    "Model_folder='../CCAT_model_Half'\n",
    "# 2. Configuration of the Holography system\n",
    "holo_setup={'Rx1':([0,0,dz_Rx],'../scan/501/on-axis.txt'), \n",
    "            'Rx2':([400,400,dz_Rx],'../scan/501/pos_pos_near.txt'),\n",
    "            'Rx3':([400,-400,dz_Rx],'../scan/501/pos_neg_near.txt'),\n",
    "            'Rx4':([-400,400,dz_Rx],'../scan/501/neg_pos_near.txt'),\n",
    "            'Rx5':([-400,-400,dz_Rx],'../scan/501/neg_neg_near.txt')\n",
    "            }\n",
    "# Define 5 receiver positions in the 'Coord_Rx' system, e.g [+/-400,+/-400,600]\n",
    "# and their field points that are stored in file 'scan/400_400_600.txt'. The field\n",
    "# points of the measured beam maps are from the read out of the telescope coders.\n",
    "#####################\n",
    "# 3. Output_folder is the folder used to store the intermediate data of the first\n",
    "#    beam calculation and the analysing results.\n",
    "Output_folder='test_tensor'\n",
    "\n",
    "# 4. Create the FYST holography Model and check the telescope model and \n",
    "# holographic setup in the 3D view.\n",
    "Model=CCAT_holo_half(Model_folder,Output_folder,holo_conf=holo_setup)"
   ]
  },
  {
   "cell_type": "code",
   "execution_count": null,
   "metadata": {},
   "outputs": [],
   "source": [
    "Model.view() # Show 3D FYST model and its receivers.\n",
    "Model.CF_view()\n",
    "#Model.view_Rx(Rx=['Rx2']) # This method can highlight the chosen reciever horns.\n"
   ]
  },
  {
   "cell_type": "code",
   "execution_count": null,
   "metadata": {},
   "outputs": [],
   "source": [
    "N_m2=1\n",
    "faces2=np.ones(N_m2).astype(int)*4\n",
    "factor=np.linspace(0,4*N_m2-1,4*N_m2).astype(int).reshape(-1,4)\n",
    "#faces2=np.c_[faces2,factor].ravel()"
   ]
  },
  {
   "cell_type": "code",
   "execution_count": null,
   "metadata": {},
   "outputs": [],
   "source": [
    "faces2"
   ]
  },
  {
   "cell_type": "code",
   "execution_count": null,
   "metadata": {},
   "outputs": [],
   "source": [
    "np.c_[faces2,factor]"
   ]
  },
  {
   "cell_type": "code",
   "execution_count": null,
   "metadata": {},
   "outputs": [],
   "source": []
  }
 ],
 "metadata": {
  "kernelspec": {
   "display_name": "ccatholo",
   "language": "python",
   "name": "python3"
  },
  "language_info": {
   "codemirror_mode": {
    "name": "ipython",
    "version": 3
   },
   "file_extension": ".py",
   "mimetype": "text/x-python",
   "name": "python",
   "nbconvert_exporter": "python",
   "pygments_lexer": "ipython3",
   "version": "3.9.18"
  }
 },
 "nbformat": 4,
 "nbformat_minor": 2
}
