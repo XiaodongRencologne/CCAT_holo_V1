{
 "cells": [
  {
   "cell_type": "code",
   "execution_count": 1,
   "metadata": {},
   "outputs": [
    {
     "name": "stderr",
     "output_type": "stream",
     "text": [
      "c:\\Users\\xiaod\\.conda\\envs\\CCATholo\\lib\\site-packages\\scipy\\__init__.py:146: UserWarning: A NumPy version >=1.16.5 and <1.23.0 is required for this version of SciPy (detected version 1.26.4\n",
      "  warnings.warn(f\"A NumPy version >={np_minversion} and <{np_maxversion}\"\n"
     ]
    }
   ],
   "source": [
    "import sys,os\n",
    "sys.path.append('..')\n",
    "from ccat_holo.Pyccat import CCAT_holo\n",
    "import time\n",
    "import torch as T\n",
    "import numpy as np"
   ]
  },
  {
   "cell_type": "code",
   "execution_count": 2,
   "metadata": {},
   "outputs": [
    {
     "name": "stdout",
     "output_type": "stream",
     "text": [
      "FYST telescope model has been created!!\n"
     ]
    }
   ],
   "source": [
    "dz_Rx=715\n",
    "# 1. Model folder\n",
    "Model_folder='../CCAT_model_Half'\n",
    "# 2. Configuration of the Holography system\n",
    "holo_setup={'Rx1':([0,0,dz_Rx],'../scan/501/on-axis.txt'), \n",
    "            'Rx2':([400,400,dz_Rx],'../scan/501/pos_pos_near.txt'),\n",
    "            'Rx3':([400,-400,dz_Rx],'../scan/501/pos_neg_near.txt'),\n",
    "            'Rx4':([-400,400,dz_Rx],'../scan/501/neg_pos_near.txt'),\n",
    "            'Rx5':([-400,-400,dz_Rx],'../scan/501/neg_neg_near.txt')\n",
    "            }\n",
    "# Define 5 receiver positions in the 'Coord_Rx' system, e.g [+/-400,+/-400,600]\n",
    "# and their field points that are stored in file 'scan/400_400_600.txt'. The field\n",
    "# points of the measured beam maps are from the read out of the telescope coders.\n",
    "#####################\n",
    "# 3. Output_folder is the folder used to store the intermediate data of the first\n",
    "#    beam calculation and the analysing results.\n",
    "Output_folder='Analysis_Half'\n",
    "\n",
    "# 4. Create the FYST holography Model and check the telescope model and \n",
    "# holographic setup in the 3D view.\n",
    "Model=CCAT_holo(Model_folder,Output_folder,holo_conf=holo_setup)"
   ]
  },
  {
   "cell_type": "code",
   "execution_count": 3,
   "metadata": {},
   "outputs": [
    {
     "name": "stdout",
     "output_type": "stream",
     "text": [
      "[-1.2490457723982542, 0, 0] [0, -4799.999999999999, 0]\n"
     ]
    },
    {
     "data": {
      "application/vnd.jupyter.widget-view+json": {
       "model_id": "8b9bdfb003344d7ab1099aad5dedb626",
       "version_major": 2,
       "version_minor": 0
      },
      "text/plain": [
       "Widget(value='<iframe src=\"http://localhost:50488/index.html?ui=P_0x2840fb037c0_0&reconnect=auto\" class=\"pyvis…"
      ]
     },
     "metadata": {},
     "output_type": "display_data"
    }
   ],
   "source": [
    "Model.view() # Show 3D FYST model and its receivers.\n",
    "Model.view_Rx(Rx=['Rx2']) # This method can highlight the chosen reciever horns."
   ]
  },
  {
   "cell_type": "code",
   "execution_count": null,
   "metadata": {},
   "outputs": [],
   "source": [
    "# 5. Running the time-consuming first beam calculation.\n",
    "''' We only need to run this calculation in the beginning\n",
    " of the data analysis. All the setup defined in 'holo_config'\n",
    " will be computed. The intermediate computed data will be\n",
    " stored in the directory 'output_folder', here is 'Analysis1'.\n",
    "'''\n",
    "Model.First_Beam_cal(S2_init=np.zeros((5,39)),S1_init=np.zeros((5,34+9)),Matrix=False)\n"
   ]
  },
  {
   "cell_type": "code",
   "execution_count": null,
   "metadata": {},
   "outputs": [],
   "source": [
    "# 5.1 check the beams\n",
    "#dz_Rx=705\n",
    "Model.plot_beam(Output_folder+'/data_Rx_dx0_dy0_dz'+str(dz_Rx)+'.h5py')\n",
    "#Model.plot_beam(Output_folder+'/data_Rx_dx400_dy400_dz'+str(dz_Rx)+'.h5py')\n",
    "#Model.plot_beam(Output_folder+'/data_Rx_dx400_dy-400_dz'+str(dz_Rx)+'.h5py')\n",
    "#Model.plot_beam(Output_folder+'/data_Rx_dx-400_dy400_dz'+str(dz_Rx)+'.h5py')\n",
    "#Model.plot_beam(Output_folder+'/data_Rx_dx-400_dy-400_dz'+str(dz_Rx)+'.h5py')"
   ]
  },
  {
   "cell_type": "code",
   "execution_count": null,
   "metadata": {},
   "outputs": [],
   "source": [
    "# 6. Make the farward beam calculation function, (Model.FF), with using\n",
    "# the data produced by the First beam calculations. Here, we can use the movements\n",
    "# of the panel adjusters or coefficients of Zernike polynomial as the fitting paramters.\n",
    "# If fitting_param is 'zernike', the surface deviations will be described by \n",
    "# the summation of zernike polynimals, and the maximum zernike order is 7th.\n",
    "#Model.mk_FF(fitting_param='panel adjusters',Device=T.device('cpu'))\n",
    "#Model.mk_FF(fitting_param='panel adjusters',Device=T.device('cuda:0'))\n",
    "\n",
    "# The function also supports the GPU acceleration by setting the 'Device' to \n",
    "# 'T.device('cuda:0')'.\n",
    "\n",
    "# Model.FF(adjusters, Para_Amp, Para_phase)"
   ]
  },
  {
   "cell_type": "code",
   "execution_count": null,
   "metadata": {},
   "outputs": [],
   "source": [
    "import h5py\n",
    "filename='test_numba/data_Rx_dx0_dy0_dz715.h5py'\n",
    "with h5py.File(filename,'r') as f:\n",
    "    print(f['F_beam_real'][:])\n",
    "    print(f['F_beam_imag'][:])\n",
    "\n",
    "filename='test_cpu/data_Rx_dx0_dy0_dz715.h5py'\n",
    "with h5py.File(filename,'r') as f:\n",
    "    print(f['F_beam_real'][:])\n",
    "    print(f['F_beam_imag'][:])"
   ]
  },
  {
   "cell_type": "code",
   "execution_count": null,
   "metadata": {},
   "outputs": [],
   "source": [
    "import h5py\n",
    "filename=Output_folder+'/data_Rx_dx0_dy0_dz715.h5py'\n",
    "with h5py.File(filename,'r') as f:\n",
    "    print(f['F_beam_real'][:])\n",
    "    print(f['F_beam_imag'][:])"
   ]
  },
  {
   "cell_type": "code",
   "execution_count": null,
   "metadata": {},
   "outputs": [],
   "source": []
  }
 ],
 "metadata": {
  "kernelspec": {
   "display_name": "ccatholo",
   "language": "python",
   "name": "python3"
  },
  "language_info": {
   "codemirror_mode": {
    "name": "ipython",
    "version": 3
   },
   "file_extension": ".py",
   "mimetype": "text/x-python",
   "name": "python",
   "nbconvert_exporter": "python",
   "pygments_lexer": "ipython3",
   "version": "3.9.19"
  }
 },
 "nbformat": 4,
 "nbformat_minor": 2
}
