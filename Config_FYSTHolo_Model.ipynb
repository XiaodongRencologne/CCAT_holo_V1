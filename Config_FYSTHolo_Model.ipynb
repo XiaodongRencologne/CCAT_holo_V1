{
 "cells": [
  {
   "cell_type": "code",
   "execution_count": 1,
   "metadata": {},
   "outputs": [],
   "source": [
    "from ccat_holo.Pyccat import CCAT_holo\n",
    "import time"
   ]
  },
  {
   "cell_type": "code",
   "execution_count": 2,
   "metadata": {},
   "outputs": [
    {
     "name": "stdout",
     "output_type": "stream",
     "text": [
      "FYST telescope model has been created!!\n"
     ]
    }
   ],
   "source": [
    "# 1. Model folder\n",
    "Model_folder='CCAT_model'\n",
    "# 2. Configuration of the Holography system\n",
    "holo_setup={'Rx1':([0,0,600],'scan/on-axis.txt'), \n",
    "            'Rx2':([400,400,600],'scan/400_400_600.txt'),\n",
    "            'Rx3':([400,-400,600],'scan/400_-400_600.txt'),\n",
    "            'Rx4':([-400,400,600],'scan/-400_400_600.txt'),\n",
    "            'Rx5':([-400,-400,600],'scan/-400_-400_600.txt')\n",
    "            }\n",
    "# Define 5 receiver positions in the 'Coord_Rx' system, e.g [+/-400,+/-400,600]\n",
    "# and their field points that are stored in file 'scan/400_400_600.txt'.\n",
    "#####################\n",
    "# 3. Output_folder is the folder used to store the intermediate data of the first\n",
    "#    beam calculation and the analysing results.\n",
    "Output_folder='Analysis1'\n",
    "\n",
    "# 4. Create the FYST holography Model\n",
    "Model=CCAT_holo(Model_folder, Output_folder,holo_conf=holo_setup)\n"
   ]
  },
  {
   "cell_type": "code",
   "execution_count": 3,
   "metadata": {},
   "outputs": [
    {
     "name": "stdout",
     "output_type": "stream",
     "text": [
      "test1 []\n",
      "test1\n",
      "test1\n",
      "test......\n",
      "[-1.2490457723982542, 0, 0] [0, -4799.999999999999, 0]\n",
      "[[ 1.          0.         -0.        ]\n",
      " [ 0.          0.31622777  0.9486833 ]\n",
      " [ 0.         -0.9486833   0.31622777]]\n",
      "(3, 276)\n"
     ]
    },
    {
     "ename": "",
     "evalue": "",
     "output_type": "error",
     "traceback": [
      "\u001b[1;31mThe Kernel crashed while executing code in the current cell or a previous cell. \n",
      "\u001b[1;31mPlease review the code in the cell(s) to identify a possible cause of the failure. \n",
      "\u001b[1;31mClick <a href='https://aka.ms/vscodeJupyterKernelCrash'>here</a> for more info. \n",
      "\u001b[1;31mView Jupyter <a href='command:jupyter.viewOutput'>log</a> for further details."
     ]
    }
   ],
   "source": [
    "Model.view2()"
   ]
  },
  {
   "cell_type": "code",
   "execution_count": null,
   "metadata": {},
   "outputs": [],
   "source": [
    "import pyvista as pv\n",
    "#pv.set_jupyter_backend('trame')\n",
    "source=pv.Cone()\n",
    "p=pv.Plotter(notebook=True)\n",
    "plot1=p.add_mesh(source,show_edges=True)\n",
    "#p.show()\n",
    "source.plot()\n"
   ]
  },
  {
   "cell_type": "code",
   "execution_count": null,
   "metadata": {},
   "outputs": [],
   "source": [
    "Model.D_f"
   ]
  },
  {
   "cell_type": "code",
   "execution_count": null,
   "metadata": {},
   "outputs": [],
   "source": []
  },
  {
   "cell_type": "code",
   "execution_count": null,
   "metadata": {},
   "outputs": [],
   "source": [
    "import trame"
   ]
  },
  {
   "cell_type": "code",
   "execution_count": 1,
   "metadata": {},
   "outputs": [
    {
     "data": {
      "text/plain": [
       "'1.24.3'"
      ]
     },
     "execution_count": 1,
     "metadata": {},
     "output_type": "execute_result"
    }
   ],
   "source": [
    "import numpy as np\n",
    "np.__version__"
   ]
  },
  {
   "cell_type": "code",
   "execution_count": null,
   "metadata": {},
   "outputs": [],
   "source": []
  }
 ],
 "metadata": {
  "kernelspec": {
   "display_name": "CCATholo",
   "language": "python",
   "name": "python3"
  },
  "language_info": {
   "codemirror_mode": {
    "name": "ipython",
    "version": 3
   },
   "file_extension": ".py",
   "mimetype": "text/x-python",
   "name": "python",
   "nbconvert_exporter": "python",
   "pygments_lexer": "ipython3",
   "version": "3.11.5"
  }
 },
 "nbformat": 4,
 "nbformat_minor": 2
}
