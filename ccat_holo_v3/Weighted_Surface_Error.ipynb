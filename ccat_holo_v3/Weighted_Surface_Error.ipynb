{
 "cells": [
  {
   "cell_type": "code",
   "execution_count": 67,
   "metadata": {},
   "outputs": [],
   "source": [
    "import numpy as np;\n",
    "import matplotlib.pyplot as plt;\n",
    "'''\n",
    "1. get the field on M1 and M2\n",
    "'''\n",
    "Field_m2=np.genfromtxt('input_beams\\in-focus\\m2_field.txt',delimiter=',')\n",
    "Field_m1=np.genfromtxt('input_beams\\in-focus\\m1_field.txt',delimiter=',')\n",
    "'''\n",
    "2. get the panel sampling data\n",
    "'''\n",
    "N_m2=15\n",
    "N_m1=13\n",
    "Field_m2=(Field_m2[...,0]+1j*Field_m2[...,1]).reshape(-1,N_m2*N_m2);\n",
    "Field_m1=(Field_m1[...,0]+1j*Field_m1[...,1]).reshape(-1,N_m1*N_m1);\n",
    "Field_m2=np.abs(Field_m2).sum(axis=1);\n",
    "Field_m1=np.abs(Field_m1).sum(axis=1);\n",
    "'''\n",
    "3. calculate the weights of each panel\n",
    "'''\n",
    "Weight_m2=Field_m2/Field_m2.max();\n",
    "Weight_m1=Field_m1/Field_m1.max();\n",
    "\n",
    "'''\n",
    "4. calculate the weighted surface error\n",
    "'''\n",
    "def Error_rms(Ref_ad,fitting_ad):\n",
    "    error=np.abs(Ref_ad-fitting_ad);\n",
    "    error2=error[0:5*69].reshape(5,-1);\n",
    "    error1=error[5*69:].reshape(5,-1);\n",
    "    plt.plot(error2[0,...]*1000,'*--')\n",
    "    error2=error2*Weight_m2;\n",
    "    error1=error1*Weight_m1;\n",
    "    plt.plot(error2[0,...]*1000,'*--')\n",
    "    plt.show()\n",
    "    rms2=np.sqrt((error2**2).mean())*1000;\n",
    "    rms1=np.sqrt((error1**2).mean())*1000;\n",
    "    return rms2,rms1\n"
   ]
  }
 ],
 "metadata": {
  "kernelspec": {
   "display_name": "Python 3",
   "language": "python",
   "name": "python3"
  },
  "language_info": {
   "codemirror_mode": {
    "name": "ipython",
    "version": 3
   },
   "file_extension": ".py",
   "mimetype": "text/x-python",
   "name": "python",
   "nbconvert_exporter": "python",
   "pygments_lexer": "ipython3",
   "version": "3.7.4"
  }
 },
 "nbformat": 4,
 "nbformat_minor": 2
}
