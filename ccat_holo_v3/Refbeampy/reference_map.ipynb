{
 "cells": [
  {
   "cell_type": "code",
   "execution_count": 1,
   "metadata": {},
   "outputs": [],
   "source": [
    "import numpy as np;\n",
    "import torch as T;\n",
    "\n",
    "from coordinate_operations import cartesian_to_spherical as cart2spher;\n",
    "from coordinate_operations import Transform_local2global as local2global;\n",
    "from coordinate_operations import Transform_global2local as global2local;\n"
   ]
  },
  {
   "cell_type": "code",
   "execution_count": 3,
   "metadata": {},
   "outputs": [],
   "source": [
    "def gaussianbeam(x,y,z,BW,k,fieldtype='far'):\n",
    "    if fieldtype=='far':\n",
    "        theta_max=2/k/BW;\n",
    "        Amp=np.exp(-(np.arctan(np.sqrt(x**2+y**2)/z)**2)/theta_max**2);\n",
    "        phase=0;\n",
    "        Field=Amp*np.exp(1j*phase);\n",
    "            \n",
    "    return Field.real,Field.imag;\n",
    "        \n",
    "    \n",
    "        \n",
    "    "
   ]
  }
 ],
 "metadata": {
  "kernelspec": {
   "display_name": "Python 3",
   "language": "python",
   "name": "python3"
  },
  "language_info": {
   "codemirror_mode": {
    "name": "ipython",
    "version": 3
   },
   "file_extension": ".py",
   "mimetype": "text/x-python",
   "name": "python",
   "nbconvert_exporter": "python",
   "pygments_lexer": "ipython3",
   "version": "3.7.3"
  }
 },
 "nbformat": 4,
 "nbformat_minor": 2
}
