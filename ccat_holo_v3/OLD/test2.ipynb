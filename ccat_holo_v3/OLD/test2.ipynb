{
 "cells": [
  {
   "cell_type": "code",
   "execution_count": 7,
   "metadata": {},
   "outputs": [],
   "source": [
    "import numpy as np\n",
    "import torch as T\n",
    "import copy\n",
    "import time\n",
    "import matplotlib.pyplot as plt\n",
    "\n",
    "\n",
    "import Pyccat\n",
    "from Pyccat import field_calculation\n",
    "\n",
    "import Kirchhoffpy\n",
    "from Kirchhoffpy.Spheical_field import spheical_grid\n",
    "from Kirchhoffpy.coordinate_operations import Coord\n"
   ]
  },
  {
   "cell_type": "code",
   "execution_count": 11,
   "metadata": {},
   "outputs": [
    {
     "name": "stdout",
     "output_type": "stream",
     "text": [
      "time used: 0.7154270999999426\n"
     ]
    }
   ],
   "source": [
    "# define the parameters input files\n",
    "inputfile='CCAT_model'\n",
    "sourcefile='beam'\n",
    "defocus=[0,0,0]\n",
    "ad_m2=np.zeros(5*69)\n",
    "ad_m1=np.zeros((5,77))\n",
    "Ns=101\n",
    "#source_field=spheical_grid(-0.005,0.005,-0.005,0.005,Ns,Ns,distance=300*10**3)\n",
    "source=Coord()\n",
    "source0=np.genfromtxt(sourcefile+'/on-axis.txt',delimiter=',')\n",
    "source.x=source0[...,0];source.y=source0[...,1];source.z=source0[...,2]\n",
    "Field_s,Field_fimag,Field_m1,Field_m2=field_calculation(inputfile,source,defocus,ad_m2,ad_m1)\n",
    "S=(Field_s.real+1j*Field_s.imag).reshape(Ns,Ns)"
   ]
  },
  {
   "cell_type": "code",
   "execution_count": 12,
   "metadata": {},
   "outputs": [
    {
     "data": {
      "text/plain": [
       "array([ 0.0026001 , -0.00061122,  0.00711128, ...,  0.0030737 ,\n",
       "        0.00111794, -0.00144317])"
      ]
     },
     "execution_count": 12,
     "metadata": {},
     "output_type": "execute_result"
    }
   ],
   "source": [
    "Field_s.real.ravel()"
   ]
  },
  {
   "cell_type": "code",
   "execution_count": null,
   "metadata": {},
   "outputs": [],
   "source": []
  }
 ],
 "metadata": {
  "kernelspec": {
   "display_name": "CCATholo",
   "language": "python",
   "name": "python3"
  },
  "language_info": {
   "codemirror_mode": {
    "name": "ipython",
    "version": 3
   },
   "file_extension": ".py",
   "mimetype": "text/x-python",
   "name": "python",
   "nbconvert_exporter": "python",
   "pygments_lexer": "ipython3",
   "version": "3.9.12"
  }
 },
 "nbformat": 4,
 "nbformat_minor": 2
}
