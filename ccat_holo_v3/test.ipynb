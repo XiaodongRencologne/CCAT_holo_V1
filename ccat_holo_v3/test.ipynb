{
 "cells": [
  {
   "cell_type": "code",
   "execution_count": 1,
   "metadata": {},
   "outputs": [],
   "source": [
    "import h5py\n",
    "import time\n",
    "import numpy as np\n",
    "import torch as T\n",
    "from Pyccat_v1 import CCAT_holo\n",
    "\n",
    "DEVICE0=T.device('cuda:0')\n",
    "measuredbeams='input_beams/GRASP_296GHz_101_101.txt'"
   ]
  },
  {
   "cell_type": "code",
   "execution_count": 10,
   "metadata": {},
   "outputs": [],
   "source": [
    "'''test x'''\n",
    "model=CCAT_holo('CCAT_MODEL','output0')\n",
    "#model.build_holo()\n",
    "model.mk_FF_4maps(Device=DEVICE0,Memory_reduc=True)"
   ]
  },
  {
   "cell_type": "code",
   "execution_count": 11,
   "metadata": {},
   "outputs": [
    {
     "name": "stdout",
     "output_type": "stream",
     "text": [
      "0.019348859786987305\n"
     ]
    }
   ],
   "source": [
    "S0=np.genfromtxt('input_beams/input_error_panel.txt')\n",
    "S0=np.zeros(5*146)\n",
    "paraA=T.tensor([1.0,0,0,0,0,0]*4,dtype=T.float64).to(DEVICE0)\n",
    "paraP=T.tensor(np.zeros(5*4),dtype=T.float64).to(DEVICE0)\n",
    "start=time.time()\n",
    "x1=model.FF(T.tensor(S0,dtype=T.float64).to(DEVICE0),paraA,paraP)\n",
    "print(time.time()-start) "
   ]
  },
  {
   "cell_type": "code",
   "execution_count": 13,
   "metadata": {},
   "outputs": [
    {
     "name": "stdout",
     "output_type": "stream",
     "text": [
      "7.267016410827637\n"
     ]
    }
   ],
   "source": [
    "start=time.time()\n",
    "for n in range(100):\n",
    "    x1=model.FF(T.tensor(S0,dtype=T.float64).to(DEVICE0),paraA,paraP)\n",
    "print(time.time()-start) "
   ]
  },
  {
   "cell_type": "code",
   "execution_count": null,
   "metadata": {},
   "outputs": [],
   "source": [
    "model.mk_FF_4maps(Device=DEVICE0)"
   ]
  },
  {
   "cell_type": "code",
   "execution_count": null,
   "metadata": {},
   "outputs": [],
   "source": [
    "S0=np.genfromtxt('input_beams/input_error_panel.txt')\n",
    "S0=np.zeros(5*146)\n",
    "paraA=T.tensor([1.0,0,0,0,0,0]*4,dtype=T.float64).to(DEVICE0)\n",
    "paraP=T.tensor(np.zeros(5*4),dtype=T.float64).to(DEVICE0)\n",
    "start=time.time()\n",
    "x2=model.FF(T.tensor(S0,dtype=T.float64).to(DEVICE0),paraA,paraP)\n",
    "print(time.time()-start) "
   ]
  },
  {
   "cell_type": "code",
   "execution_count": null,
   "metadata": {},
   "outputs": [],
   "source": [
    "x1=x1.data.cpu()\n",
    "x2=x2.data.cpu()"
   ]
  },
  {
   "cell_type": "code",
   "execution_count": null,
   "metadata": {},
   "outputs": [],
   "source": [
    "print(T.tensor(np.flip(x2[4,:].numpy().reshape(101,-1),axis=1).ravel())-x1[4,:])\n",
    "print(T.tensor(np.flip(x2[5,:].numpy().reshape(101,-1),axis=1).ravel())-x1[5,:])\n",
    "print(T.tensor(np.flip(x2[6,:].numpy().reshape(101,-1),axis=1).ravel())-x1[6,:])\n",
    "print(T.tensor(np.flip(x2[7,:].numpy().reshape(101,-1),axis=1).ravel())-x1[7,:])"
   ]
  },
  {
   "cell_type": "code",
   "execution_count": null,
   "metadata": {},
   "outputs": [],
   "source": [
    "r1=(x1[0:4,:]-x2[0:4,:])"
   ]
  },
  {
   "cell_type": "code",
   "execution_count": null,
   "metadata": {},
   "outputs": [],
   "source": [
    "for n in range(2):\n",
    "    print(x1[2*n,:].numpy()-x2[2*n,:].numpy())\n",
    "    print(x1[2*n+1,:].numpy()-x2[2*n+1,:].numpy())\n",
    "for n in range(2,4):\n",
    "    print(T.flip(x1[2*n,:].reshape(101,-1),[1]).ravel()-x2[2*n,:])\n",
    "    print(T.flip(x1[2*n+1,:].reshape(101,-1),[1]).ravel()-x2[2*n+1,:])"
   ]
  },
  {
   "cell_type": "code",
   "execution_count": null,
   "metadata": {},
   "outputs": [],
   "source": [
    "T.flip(x1,[1])"
   ]
  },
  {
   "cell_type": "code",
   "execution_count": null,
   "metadata": {},
   "outputs": [],
   "source": [
    "for n in range(2):\n",
    "    print(x1[2*n,:].numpy()-x2[2*n,:].numpy())\n",
    "    print(x1[2*n+1,:].numpy()-x2[2*n+1,:].numpy())\n",
    "for n in range(2,4):\n",
    "    print(np.flip(x1[2*n,:].numpy().reshape(101,-1),axis=1).ravel()-x2[2*n,:].numpy())\n",
    "    print(np.flip(x1[2*n+1,:].numpy().reshape(101,-1),axis=1).ravel()-x2[2*n+1,:].numpy())"
   ]
  },
  {
   "cell_type": "code",
   "execution_count": null,
   "metadata": {},
   "outputs": [],
   "source": [
    "Meas=T.tensor(np.genfromtxt(measuredbeams,delimiter=','),dtype=T.float64)\n",
    "model.fit_LP(Meas,Device=DEVICE0,Map_N=4)\n",
    "np.savetxt('OLD/output/inference/test/results_LP'+'.txt',model.result_LP.x)"
   ]
  },
  {
   "cell_type": "code",
   "execution_count": null,
   "metadata": {},
   "outputs": [],
   "source": [
    "[1e-2,1e-1,1e-2,1e-2,1e-2,5]"
   ]
  },
  {
   "cell_type": "code",
   "execution_count": null,
   "metadata": {},
   "outputs": [],
   "source": [
    "Meas=T.tensor(np.genfromtxt(measuredbeams,delimiter=','),dtype=T.float64)\n",
    "model.fit_surface(Meas,Device=DEVICE0,constraint=[1,1,1,1,1,1,10],Map_N=4,Init_LP=model.result_LP.x)\n",
    "np.savetxt('OLD/output/inference/test/results_test_LP'+'.txt',model.result.x)"
   ]
  },
  {
   "cell_type": "code",
   "execution_count": null,
   "metadata": {},
   "outputs": [],
   "source": [
    "Meas=T.tensor(np.genfromtxt(measuredbeams,delimiter=','),dtype=T.float64)\n",
    "model.fit_surface(Meas,Device=DEVICE0,constraint=[1e-2,1e-1,1e-2,1e-2,1e-2,1],Map_N=4,Init_LP=np.append(np.array([1,0,0,0,0,0]*4),np.array([0,0,0,0,0]*4)))\n",
    "np.savetxt('OLD/output/inference/test/results_test'+'.txt',model.result.x)"
   ]
  },
  {
   "cell_type": "code",
   "execution_count": null,
   "metadata": {},
   "outputs": [],
   "source": [
    "model.result.x"
   ]
  },
  {
   "cell_type": "code",
   "execution_count": null,
   "metadata": {},
   "outputs": [],
   "source": [
    "(model.result.x[0:-44]-S0).max()*1000"
   ]
  },
  {
   "cell_type": "code",
   "execution_count": null,
   "metadata": {},
   "outputs": [],
   "source": []
  },
  {
   "cell_type": "code",
   "execution_count": null,
   "metadata": {},
   "outputs": [],
   "source": [
    "T.device('cuda')"
   ]
  },
  {
   "cell_type": "code",
   "execution_count": null,
   "metadata": {},
   "outputs": [],
   "source": []
  }
 ],
 "metadata": {
  "kernelspec": {
   "display_name": "Python 3 (ipykernel)",
   "language": "python",
   "name": "python3"
  },
  "language_info": {
   "codemirror_mode": {
    "name": "ipython",
    "version": 3
   },
   "file_extension": ".py",
   "mimetype": "text/x-python",
   "name": "python",
   "nbconvert_exporter": "python",
   "pygments_lexer": "ipython3",
   "version": "3.9.12"
  }
 },
 "nbformat": 4,
 "nbformat_minor": 2
}
